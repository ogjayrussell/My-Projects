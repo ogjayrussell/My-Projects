{
 "cells": [
  {
   "cell_type": "markdown",
   "metadata": {},
   "source": [
    "# Evaluate\n",
    "___"
   ]
  },
  {
   "cell_type": "markdown",
   "metadata": {},
   "source": [
    "## Accuracy\n",
    "Mannually verify the outputs.\n",
    "\n",
    "## Correct Execution Rate\n",
    "Defining my own eveluation metrics. How many times the prompt has been able to run and retrieve the correct data.\n",
    "Define 'Successful Execution' as:\n",
    "1. app is able to run the sql query\n",
    "2. does the retrieved answer the user's question\n",
    "\n",
    "##"
   ]
  },
  {
   "cell_type": "code",
   "execution_count": 9,
   "metadata": {},
   "outputs": [],
   "source": [
    "import app\n",
    "import dotenv\n",
    "import llm\n",
    "import os\n",
    "import subprocess"
   ]
  },
  {
   "cell_type": "code",
   "execution_count": 10,
   "metadata": {},
   "outputs": [],
   "source": [
    "DB_URL = os.environ.get('DB_URL')\n",
    "key = os.environ.get('OPENAI_API_KEY')"
   ]
  },
  {
   "cell_type": "code",
   "execution_count": 11,
   "metadata": {},
   "outputs": [],
   "source": [
    "#A function that will run app.py and print the output if ran successfully, otherwise will return False.\n",
    "def run_application():\n",
    "    try:\n",
    "        result = subprocess.run([\"python\", \"app.py\"], check=True, text=True, capture_output=True)\n",
    "        print(result.stdout)\n",
    "        return True\n",
    "    except subprocess.CalledProcessError as e:\n",
    "        print(f\"app.py failed with error: {e}\")\n",
    "        return False"
   ]
  },
  {
   "cell_type": "code",
   "execution_count": 12,
   "metadata": {},
   "outputs": [],
   "source": [
    "#A function that will be able to run the run_application() 100 times, and store the results in a list\n",
    "def run_application_multiple_times():\n",
    "    results = []\n",
    "    for _ in range(5):\n",
    "        result = run_application()\n",
    "        results.append(result)\n",
    "    return results"
   ]
  },
  {
   "cell_type": "code",
   "execution_count": 13,
   "metadata": {},
   "outputs": [
    {
     "name": "stdout",
     "output_type": "stream",
     "text": [
      "app.py failed with error: Command '['python', 'app.py']' returned non-zero exit status 1.\n",
      "app.py failed with error: Command '['python', 'app.py']' returned non-zero exit status 1.\n",
      "app.py failed with error: Command '['python', 'app.py']' returned non-zero exit status 1.\n",
      "app.py failed with error: Command '['python', 'app.py']' returned non-zero exit status 1.\n",
      "1. MODIFIED_PROMPT: show me gmail users Use these TABLE_DEFINITIONS to satisfy the database query:\n",
      "\n",
      "TABLE_DEFINITIONS\n",
      "\n",
      "CREATE TABLE patients (\n",
      "    id integer DEFAULT nextval('patients_patient_id_seq'::regclass) NOT NULL,\n",
      "    email character varying NOT NULL,\n",
      "    phone character varying,\n",
      "    first_name character varying,\n",
      "    last_name character varying\n",
      "); Respond in the format found under TABLE_RESPONSE_FORMAT. Insert the relevant information within <>, don't include the <> symbols, keep the ---------.\n",
      "\n",
      "TABLE_RESPONSE_FORMAT\n",
      "\n",
      "<insert an explanation of the sql query as raw text here>\n",
      "            ---------\n",
      "<insert sql query exclusively as raw text here>\n",
      "            \n",
      "2. PROMPT_RESPONSE: <This SQL query will select the id, first name, and last name of patients whose email addresses end with '@gmail.com'. This will show all patients that are using Gmail.>\n",
      "            ---------\n",
      "SELECT id, first_name, last_name \n",
      "FROM patients \n",
      "WHERE email LIKE '%@gmail.com';\n",
      "3. RUN_SQL_QUERY: SELECT id, first_name, last_name \n",
      "FROM patients \n",
      "WHERE email LIKE '%@gmail.com';\n",
      "-------- POSTGRES AI AGENT RESPONSE ---------\n",
      "[(1, 'John', 'Doe'), (4, 'Emily', 'Davis'), (7, 'James', 'Taylor'), (8, 'Elizabeth', 'Johnson'), (10, 'Susan', 'Clark'), (13, 'Richard', 'Thomas'), (16, 'Mary', 'Martin'), (19, 'Andrew', 'Lee')]\n",
      "\n"
     ]
    },
    {
     "data": {
      "text/plain": [
       "[False, False, False, False, True]"
      ]
     },
     "execution_count": 13,
     "metadata": {},
     "output_type": "execute_result"
    }
   ],
   "source": [
    "results = run_application_multiple_times()\n",
    "results"
   ]
  },
  {
   "cell_type": "code",
   "execution_count": null,
   "metadata": {},
   "outputs": [],
   "source": []
  }
 ],
 "metadata": {
  "kernelspec": {
   "display_name": "autogen",
   "language": "python",
   "name": "python3"
  },
  "language_info": {
   "codemirror_mode": {
    "name": "ipython",
    "version": 3
   },
   "file_extension": ".py",
   "mimetype": "text/x-python",
   "name": "python",
   "nbconvert_exporter": "python",
   "pygments_lexer": "ipython3",
   "version": "3.11.4"
  }
 },
 "nbformat": 4,
 "nbformat_minor": 2
}
