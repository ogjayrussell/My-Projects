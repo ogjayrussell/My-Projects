{
 "cells": [
  {
   "cell_type": "markdown",
   "metadata": {},
   "source": [
    "# Generating Synthetic Data \n",
    "Using OpenAI's API GPT-4 \n",
    "____"
   ]
  },
  {
   "cell_type": "code",
   "execution_count": 63,
   "metadata": {},
   "outputs": [],
   "source": [
    "import openai\n",
    "import random\n",
    "import os\n",
    "import dotenv\n",
    "import llm\n",
    "import pandas as pd\n",
    "import re"
   ]
  },
  {
   "cell_type": "code",
   "execution_count": null,
   "metadata": {},
   "outputs": [],
   "source": [
    "key = os.environ.get('OPENAI_API_KEY')"
   ]
  },
  {
   "cell_type": "markdown",
   "metadata": {},
   "source": [
    "### LLM to create a dataset with a same prompt-response as app.py\n",
    "A transition from the gpt-4 API to a local llm will require fine-tuning to uphold performance with a smaller model. To fine-tune to this specific use-case, the training data needs to resemble the prompt-response pair found when interacting with app.py. The formatting is quite extensive:"
   ]
  },
  {
   "cell_type": "markdown",
   "metadata": {},
   "source": [
    "### Prompt Engineering\n",
    "Leveraging how capable gpt-4 is by explicitly spelling out the expected prompt and response input outputs. "
   ]
  },
  {
   "cell_type": "code",
   "execution_count": 43,
   "metadata": {},
   "outputs": [],
   "source": [
    "prompt_definition = \"\"\"A model that receives an instruction from the user to show certain information from a postgres database in colloquial english. \n",
    "Followed by information on table definitions under TABLE_DEFINITIONS formatted as the output of this function:\n",
    "\n",
    "    def get_table_definitions_for_prompt(self):\n",
    "        table_names = self.get_all_table_names()\n",
    "        return \"\\n\".join([self.get_table_definition(table) for table in table_names])\n",
    "\n",
    "With the instruction and the table definitions formatted like so:\n",
    "\n",
    "<user instruction>\n",
    "\n",
    "TABLE_DEFINITIONS\n",
    "\n",
    "<output of function> \"\"\"\n",
    "\n",
    "response_definition = \"\"\"\n",
    "\n",
    "It is the model's job to then respond with an SQL query that will be run to fetch the requested data with an output that follows this formatting:\n",
    "\n",
    "<insert an explanation of the sql query as raw text here>\n",
    "            ---------\n",
    "<insert sql query exclusively as raw text here>\n",
    "\n",
    "Make sure to include the --------- in the answer.\n",
    "\"\"\"\n",
    "\n",
    "prompt = f'{prompt_definition}{response_definition}'"
   ]
  },
  {
   "cell_type": "code",
   "execution_count": null,
   "metadata": {},
   "outputs": [],
   "source": [
    "#configuring the gpt-4 model params\n",
    "#reasonable temperature to promote some creativity\n",
    "#number_of_examples cannot exceed 15 as that reaches token limit provided by openai API\n",
    "temperature = 0.4\n",
    "number_of_examples = 15"
   ]
  },
  {
   "cell_type": "code",
   "execution_count": 22,
   "metadata": {},
   "outputs": [],
   "source": [
    "#messages will describe the role of the llm model to generate synthetic data\n",
    "def generate_example(prompt, prev_examples, temperature=.5):\n",
    "    \n",
    "    #system message will set the role of the llm\n",
    "    messages=[\n",
    "        {\n",
    "            \"role\": \"system\",\n",
    "            \"content\": f\"\"\"You are generating data which will be used to train a machine learning model.\\n\\n\n",
    "            You will be given a high-level description of the model we want to train, and from that, you will generate data samples, each with a prompt/response pair.\\n\\n\n",
    "            You will do so in this format:\\n```\\nprompt\\n-----------\\n$prompt_goes_here\\n-----------\\n\\nresponse\\n-----------\\n$response_goes_here\\n-----------\\n```\\n\\nOnly one prompt/response pair should be generated per turn.\\n\\nFor each turn, make the example slightly more complex than the last, while ensuring diversity.\\n\\nMake sure your samples are unique and diverse, yet high-quality and complex enough to train a well-performing model.\\n\\nHere is the type of model we want to train:\\n`{prompt}`\"\"\"\n",
    "        }\n",
    "    ]\n",
    "\n",
    "#storing previous examples into 'messages' list so that the model can avoid repetitions, ensure diversity of the outputs.\n",
    "    if len(prev_examples) > 0:\n",
    "        if len(prev_examples) > 10:\n",
    "            prev_examples = random.sample(prev_examples, 10)\n",
    "        for example in prev_examples:\n",
    "            messages.append({\n",
    "                \"role\": \"assistant\",\n",
    "                \"content\": example\n",
    "            })\n",
    "\n",
    "\n",
    "\n",
    "#configuring the gpt-4 model\n",
    "    response = openai.ChatCompletion.create(\n",
    "        model=\"gpt-4\",\n",
    "        messages=messages,\n",
    "        temperature=temperature,\n",
    "        max_tokens=1354,\n",
    "    )\n",
    "\n",
    "    return response.choices[0].message['content']"
   ]
  },
  {
   "cell_type": "code",
   "execution_count": 23,
   "metadata": {},
   "outputs": [
    {
     "name": "stdout",
     "output_type": "stream",
     "text": [
      "Generating example 0\n",
      "Generating example 1\n",
      "Generating example 2\n",
      "Generating example 3\n",
      "Generating example 4\n",
      "Generating example 5\n",
      "Generating example 6\n",
      "Generating example 7\n",
      "Generating example 8\n",
      "Generating example 9\n",
      "Generating example 10\n",
      "Generating example 11\n",
      "Generating example 12\n",
      "Generating example 13\n",
      "Generating example 14\n",
      "[\"prompt\\n-----------\\nShow me the names of all the employees.\\n\\nTABLE_DEFINITIONS\\n\\nEmployees:\\nid (integer)\\nname (text)\\nage (integer)\\ndepartment_id (integer)\\n\\nDepartments:\\nid (integer)\\nname (text)\\n-----------\\n\\nresponse\\n-----------\\nTo get the names of all the employees, we will query the 'Employees' table and select the 'name' column.\\n\\n---------\\nSELECT name FROM Employees;\\n-----------\", \"prompt\\n-----------\\nI need to see the names and ages of all employees.\\n\\nTABLE_DEFINITIONS\\n\\nEmployees:\\nid (integer)\\nname (text)\\nage (integer)\\ndepartment_id (integer)\\n\\nDepartments:\\nid (integer)\\nname (text)\\n-----------\\n\\nresponse\\n-----------\\nTo fetch the names and ages of all employees, we need to select the 'name' and 'age' columns from the 'Employees' table.\\n\\n---------\\nSELECT name, age FROM Employees;\\n-----------\", \"prompt\\n-----------\\nCan you show me the names of all the departments?\\n\\nTABLE_DEFINITIONS\\n\\nEmployees:\\nid (integer)\\nname (text)\\nage (integer)\\ndepartment_id (integer)\\n\\nDepartments:\\nid (integer)\\nname (text)\\n-----------\\n\\nresponse\\n-----------\\nTo get the names of all the departments, we will query the 'Departments' table and select the 'name' column.\\n\\n---------\\nSELECT name FROM Departments;\\n-----------\", \"prompt\\n-----------\\nI'd like to see the names of all employees who are over 30 years old.\\n\\nTABLE_DEFINITIONS\\n\\nEmployees:\\nid (integer)\\nname (text)\\nage (integer)\\ndepartment_id (integer)\\n\\nDepartments:\\nid (integer)\\nname (text)\\n-----------\\n\\nresponse\\n-----------\\nTo fetch the names of all employees who are over 30 years old, we need to select the 'name' column from the 'Employees' table where the 'age' is greater than 30.\\n\\n---------\\nSELECT name FROM Employees WHERE age > 30;\\n-----------\", \"prompt\\n-----------\\nShow me the names of all employees in the 'Marketing' department.\\n\\nTABLE_DEFINITIONS\\n\\nEmployees:\\nid (integer)\\nname (text)\\nage (integer)\\ndepartment_id (integer)\\n\\nDepartments:\\nid (integer)\\nname (text)\\n-----------\\n\\nresponse\\n-----------\\nTo get the names of all employees in the 'Marketing' department, we need to join the 'Employees' and 'Departments' tables on the 'id' and 'department_id' columns respectively. Then, we select the 'name' column where the department 'name' is 'Marketing'.\\n\\n---------\\nSELECT Employees.name FROM Employees JOIN Departments ON Employees.department_id = Departments.id WHERE Departments.name = 'Marketing';\\n-----------\", \"prompt\\n-----------\\nI need to see the names of all employees who are under 25 years old and work in the 'Sales' department.\\n\\nTABLE_DEFINITIONS\\n\\nEmployees:\\nid (integer)\\nname (text)\\nage (integer)\\ndepartment_id (integer)\\n\\nDepartments:\\nid (integer)\\nname (text)\\n-----------\\n\\nresponse\\n-----------\\nTo fetch the names of all employees who are under 25 years old and work in the 'Sales' department, we need to join the 'Employees' and 'Departments' tables on the 'id' and 'department_id' columns respectively. Then, we select the 'name' column where the 'age' is less than 25 and the department 'name' is 'Sales'.\\n\\n---------\\nSELECT Employees.name FROM Employees JOIN Departments ON Employees.department_id = Departments.id WHERE Employees.age < 25 AND Departments.name = 'Sales';\\n-----------\", \"prompt\\n-----------\\nCan you show me the names of all departments that have more than 10 employees?\\n\\nTABLE_DEFINITIONS\\n\\nEmployees:\\nid (integer)\\nname (text)\\nage (integer)\\ndepartment_id (integer)\\n\\nDepartments:\\nid (integer)\\nname (text)\\n-----------\\n\\nresponse\\n-----------\\nTo get the names of all departments that have more than 10 employees, we need to join the 'Employees' and 'Departments' tables on the 'id' and 'department_id' columns respectively. Then, we group by the department 'name' and select those departments where the count of employees is more than 10.\\n\\n---------\\nSELECT Departments.name FROM Employees JOIN Departments ON Employees.department_id = Departments.id GROUP BY Departments.name HAVING COUNT(Employees.id) > 10;\\n-----------\", \"prompt\\n-----------\\nI'd like to see the average age of employees in the 'Human Resources' department.\\n\\nTABLE_DEFINITIONS\\n\\nEmployees:\\nid (integer)\\nname (text)\\nage (integer)\\ndepartment_id (integer)\\n\\nDepartments:\\nid (integer)\\nname (text)\\n-----------\\n\\nresponse\\n-----------\\nTo fetch the average age of employees in the 'Human Resources' department, we need to join the 'Employees' and 'Departments' tables on the 'id' and 'department_id' columns respectively. Then, we select the average of 'age' where the department 'name' is 'Human Resources'.\\n\\n---------\\nSELECT AVG(Employees.age) FROM Employees JOIN Departments ON Employees.department_id = Departments.id WHERE Departments.name = 'Human Resources';\\n-----------\", \"prompt\\n-----------\\nShow me the names of all employees who are older than the average age of employees.\\n\\nTABLE_DEFINITIONS\\n\\nEmployees:\\nid (integer)\\nname (text)\\nage (integer)\\ndepartment_id (integer)\\n\\nDepartments:\\nid (integer)\\nname (text)\\n-----------\\n\\nresponse\\n-----------\\nTo get the names of all employees who are older than the average age of employees, we need to select the 'name' from the 'Employees' table where the 'age' is greater than the average 'age' of all employees.\\n\\n---------\\nSELECT name FROM Employees WHERE age > (SELECT AVG(age) FROM Employees);\\n-----------\", \"prompt\\n-----------\\nI need to see the names of all departments that have employees older than 40 years.\\n\\nTABLE_DEFINITIONS\\n\\nEmployees:\\nid (integer)\\nname (text)\\nage (integer)\\ndepartment_id (integer)\\n\\nDepartments:\\nid (integer)\\nname (text)\\n-----------\\n\\nresponse\\n-----------\\nTo fetch the names of all departments that have employees older than 40 years, we need to join the 'Employees' and 'Departments' tables on the 'id' and 'department_id' columns respectively. Then, we select distinct department 'name' where the 'age' is greater than 40.\\n\\n---------\\nSELECT DISTINCT Departments.name FROM Employees JOIN Departments ON Employees.department_id = Departments.id WHERE Employees.age > 40;\\n-----------\", \"prompt\\n-----------\\nCan you show me the names and ages of all employees, sorted by age in descending order?\\n\\nTABLE_DEFINITIONS\\n\\nEmployees:\\nid (integer)\\nname (text)\\nage (integer)\\ndepartment_id (integer)\\n\\nDepartments:\\nid (integer)\\nname (text)\\n-----------\\n\\nresponse\\n-----------\\nTo get the names and ages of all employees, sorted by age in descending order, we need to select the 'name' and 'age' from the 'Employees' table and order the results by 'age' in descending order.\\n\\n---------\\nSELECT name, age FROM Employees ORDER BY age DESC;\\n-----------\", \"prompt\\n-----------\\nCan you show me the names of all employees who are in their 20s?\\n\\nTABLE_DEFINITIONS\\n\\nEmployees:\\nid (integer)\\nname (text)\\nage (integer)\\ndepartment_id (integer)\\n\\nDepartments:\\nid (integer)\\nname (text)\\n-----------\\n\\nresponse\\n-----------\\nTo fetch the names of all employees who are in their 20s, we need to select the 'name' column from the 'Employees' table where the 'age' is between 20 and 29.\\n\\n---------\\nSELECT name FROM Employees WHERE age BETWEEN 20 AND 29;\\n-----------\", \"prompt\\n-----------\\nShow me the names of all employees who are not in the 'Finance' department.\\n\\nTABLE_DEFINITIONS\\n\\nEmployees:\\nid (integer)\\nname (text)\\nage (integer)\\ndepartment_id (integer)\\n\\nDepartments:\\nid (integer)\\nname (text)\\n-----------\\n\\nresponse\\n-----------\\nTo get the names of all employees who are not in the 'Finance' department, we need to join the 'Employees' and 'Departments' tables on the 'id' and 'department_id' columns respectively. Then, we select the 'name' column where the department 'name' is not 'Finance'.\\n\\n---------\\nSELECT Employees.name FROM Employees JOIN Departments ON Employees.department_id = Departments.id WHERE Departments.name != 'Finance';\\n-----------\", \"prompt\\n-----------\\nCan you show me the names of all departments that have employees younger than 20 years?\\n\\nTABLE_DEFINITIONS\\n\\nEmployees:\\nid (integer)\\nname (text)\\nage (integer)\\ndepartment_id (integer)\\n\\nDepartments:\\nid (integer)\\nname (text)\\n-----------\\n\\nresponse\\n-----------\\nTo fetch the names of all departments that have employees younger than 20 years, we need to join the 'Employees' and 'Departments' tables on the 'id' and 'department_id' columns respectively. Then, we select distinct department 'name' where the 'age' is less than 20.\\n\\n---------\\nSELECT DISTINCT Departments.name FROM Employees JOIN Departments ON Employees.department_id = Departments.id WHERE Employees.age < 20;\\n-----------\", \"prompt\\n-----------\\nI'd like to see the names of all employees who are 30 years old or younger.\\n\\nTABLE_DEFINITIONS\\n\\nEmployees:\\nid (integer)\\nname (text)\\nage (integer)\\ndepartment_id (integer)\\n\\nDepartments:\\nid (integer)\\nname (text)\\n-----------\\n\\nresponse\\n-----------\\nTo fetch the names of all employees who are 30 years old or younger, we need to select the 'name' column from the 'Employees' table where the 'age' is less than or equal to 30.\\n\\n---------\\nSELECT name FROM Employees WHERE age <= 30;\\n-----------\"]\n"
     ]
    }
   ],
   "source": [
    "#storing generated prompt-pairs into list\n",
    "prev_examples = []\n",
    "for i in range(number_of_examples):\n",
    "    print(f'Generating example {i}')\n",
    "    example = generate_example(prompt, prev_examples, temperature)\n",
    "    prev_examples.append(example)\n",
    "\n",
    "print(prev_examples)"
   ]
  },
  {
   "cell_type": "code",
   "execution_count": 24,
   "metadata": {},
   "outputs": [
    {
     "data": {
      "text/html": [
       "<div>\n",
       "<style scoped>\n",
       "    .dataframe tbody tr th:only-of-type {\n",
       "        vertical-align: middle;\n",
       "    }\n",
       "\n",
       "    .dataframe tbody tr th {\n",
       "        vertical-align: top;\n",
       "    }\n",
       "\n",
       "    .dataframe thead th {\n",
       "        text-align: right;\n",
       "    }\n",
       "</style>\n",
       "<table border=\"1\" class=\"dataframe\">\n",
       "  <thead>\n",
       "    <tr style=\"text-align: right;\">\n",
       "      <th></th>\n",
       "      <th>prompt</th>\n",
       "      <th>response</th>\n",
       "    </tr>\n",
       "  </thead>\n",
       "  <tbody>\n",
       "    <tr>\n",
       "      <th>0</th>\n",
       "      <td>Show me the names of all the employees.\\n\\nTABLE_DEFINITIONS\\n\\nEmployees:\\nid (integer)\\nname (text)\\nage (integer)\\ndepartment_id (integer)\\n\\nDepartments:\\nid (integer)\\nname (text)</td>\n",
       "      <td>To get the names of all the employees, we will query the 'Employees' table and select the 'name' column.\\n\\n---------\\nSELECT name FROM Employees;</td>\n",
       "    </tr>\n",
       "    <tr>\n",
       "      <th>1</th>\n",
       "      <td>I need to see the names and ages of all employees.\\n\\nTABLE_DEFINITIONS\\n\\nEmployees:\\nid (integer)\\nname (text)\\nage (integer)\\ndepartment_id (integer)\\n\\nDepartments:\\nid (integer)\\nname (text)</td>\n",
       "      <td>To fetch the names and ages of all employees, we need to select the 'name' and 'age' columns from the 'Employees' table.\\n\\n---------\\nSELECT name, age FROM Employees;</td>\n",
       "    </tr>\n",
       "    <tr>\n",
       "      <th>2</th>\n",
       "      <td>Can you show me the names of all the departments?\\n\\nTABLE_DEFINITIONS\\n\\nEmployees:\\nid (integer)\\nname (text)\\nage (integer)\\ndepartment_id (integer)\\n\\nDepartments:\\nid (integer)\\nname (text)</td>\n",
       "      <td>To get the names of all the departments, we will query the 'Departments' table and select the 'name' column.\\n\\n---------\\nSELECT name FROM Departments;</td>\n",
       "    </tr>\n",
       "    <tr>\n",
       "      <th>3</th>\n",
       "      <td>I'd like to see the names of all employees who are over 30 years old.\\n\\nTABLE_DEFINITIONS\\n\\nEmployees:\\nid (integer)\\nname (text)\\nage (integer)\\ndepartment_id (integer)\\n\\nDepartments:\\nid (integer)\\nname (text)</td>\n",
       "      <td>To fetch the names of all employees who are over 30 years old, we need to select the 'name' column from the 'Employees' table where the 'age' is greater than 30.\\n\\n---------\\nSELECT name FROM Employees WHERE age &gt; 30;</td>\n",
       "    </tr>\n",
       "    <tr>\n",
       "      <th>4</th>\n",
       "      <td>Show me the names of all employees in the 'Marketing' department.\\n\\nTABLE_DEFINITIONS\\n\\nEmployees:\\nid (integer)\\nname (text)\\nage (integer)\\ndepartment_id (integer)\\n\\nDepartments:\\nid (integer)\\nname (text)</td>\n",
       "      <td>To get the names of all employees in the 'Marketing' department, we need to join the 'Employees' and 'Departments' tables on the 'id' and 'department_id' columns respectively. Then, we select the 'name' column where the department 'name' is 'Marketing'.\\n\\n---------\\nSELECT Employees.name FROM Employees JOIN Departments ON Employees.department_id = Departments.id WHERE Departments.name = 'Marketing';</td>\n",
       "    </tr>\n",
       "  </tbody>\n",
       "</table>\n",
       "</div>"
      ],
      "text/plain": [
       "                                                                                                                                                                                                                   prompt  \\\n",
       "0                                Show me the names of all the employees.\\n\\nTABLE_DEFINITIONS\\n\\nEmployees:\\nid (integer)\\nname (text)\\nage (integer)\\ndepartment_id (integer)\\n\\nDepartments:\\nid (integer)\\nname (text)   \n",
       "1                     I need to see the names and ages of all employees.\\n\\nTABLE_DEFINITIONS\\n\\nEmployees:\\nid (integer)\\nname (text)\\nage (integer)\\ndepartment_id (integer)\\n\\nDepartments:\\nid (integer)\\nname (text)   \n",
       "2                      Can you show me the names of all the departments?\\n\\nTABLE_DEFINITIONS\\n\\nEmployees:\\nid (integer)\\nname (text)\\nage (integer)\\ndepartment_id (integer)\\n\\nDepartments:\\nid (integer)\\nname (text)   \n",
       "3  I'd like to see the names of all employees who are over 30 years old.\\n\\nTABLE_DEFINITIONS\\n\\nEmployees:\\nid (integer)\\nname (text)\\nage (integer)\\ndepartment_id (integer)\\n\\nDepartments:\\nid (integer)\\nname (text)   \n",
       "4      Show me the names of all employees in the 'Marketing' department.\\n\\nTABLE_DEFINITIONS\\n\\nEmployees:\\nid (integer)\\nname (text)\\nage (integer)\\ndepartment_id (integer)\\n\\nDepartments:\\nid (integer)\\nname (text)   \n",
       "\n",
       "                                                                                                                                                                                                                                                                                                                                                                                                              response  \n",
       "0                                                                                                                                                                                                                                                                   To get the names of all the employees, we will query the 'Employees' table and select the 'name' column.\\n\\n---------\\nSELECT name FROM Employees;  \n",
       "1                                                                                                                                                                                                                                              To fetch the names and ages of all employees, we need to select the 'name' and 'age' columns from the 'Employees' table.\\n\\n---------\\nSELECT name, age FROM Employees;  \n",
       "2                                                                                                                                                                                                                                                             To get the names of all the departments, we will query the 'Departments' table and select the 'name' column.\\n\\n---------\\nSELECT name FROM Departments;  \n",
       "3                                                                                                                                                                                           To fetch the names of all employees who are over 30 years old, we need to select the 'name' column from the 'Employees' table where the 'age' is greater than 30.\\n\\n---------\\nSELECT name FROM Employees WHERE age > 30;  \n",
       "4  To get the names of all employees in the 'Marketing' department, we need to join the 'Employees' and 'Departments' tables on the 'id' and 'department_id' columns respectively. Then, we select the 'name' column where the department 'name' is 'Marketing'.\\n\\n---------\\nSELECT Employees.name FROM Employees JOIN Departments ON Employees.department_id = Departments.id WHERE Departments.name = 'Marketing';  "
      ]
     },
     "execution_count": 24,
     "metadata": {},
     "output_type": "execute_result"
    }
   ],
   "source": [
    "# Initialize lists to store prompts and responses\n",
    "prompts = []\n",
    "responses = []\n",
    "\n",
    "# Parse out prompts and responses from examples\n",
    "for example in prev_examples:\n",
    "  try:\n",
    "    split_example = example.split('-----------')\n",
    "    prompts.append(split_example[1].strip())\n",
    "    responses.append(split_example[3].strip())\n",
    "  except:\n",
    "    pass\n",
    "\n",
    "# Create a DataFrame\n",
    "df = pd.DataFrame({\n",
    "    'prompt': prompts,\n",
    "    'response': responses\n",
    "})\n",
    "\n",
    "# Remove duplicates\n",
    "df = df.drop_duplicates()\n",
    "\n",
    "pd.set_option('display.max_colwidth', None)\n",
    "df.head()"
   ]
  },
  {
   "cell_type": "code",
   "execution_count": 25,
   "metadata": {},
   "outputs": [],
   "source": [
    "# Split the data into train and test sets, with 90% in the train set\n",
    "# train_df = df.sample(frac=0.9, random_state=42)\n",
    "# test_df = df.drop(train_df.index)\n",
    "\n",
    "# Save the dataframes to .jsonl files\n",
    "# train_df.to_csv('train_df.csv', index = False)\n",
    "df.to_csv('df4.csv', index = False)\n",
    "# test_df.to_csv('test.csv', index=False)"
   ]
  },
  {
   "cell_type": "code",
   "execution_count": 28,
   "metadata": {},
   "outputs": [],
   "source": [
    "df1 = pd.read_csv('./data/df1.csv')\n",
    "df2 = pd.read_csv('./data/df2.csv')\n",
    "df3 = pd.read_csv('./data/df3.csv')\n",
    "df4 = pd.read_csv('./data/df4.csv')"
   ]
  },
  {
   "cell_type": "code",
   "execution_count": 35,
   "metadata": {},
   "outputs": [],
   "source": [
    "def join_df(*dataframes):\n",
    "    joined_df = pd.concat(dataframes, ignore_index = True)\n",
    "    return joined_df\n",
    "\n",
    "df = join_df(df1,df2,df3,df4)\n",
    "\n",
    "df.to_csv('sql_prompt_pairs.csv',index = False)"
   ]
  },
  {
   "cell_type": "code",
   "execution_count": 49,
   "metadata": {},
   "outputs": [],
   "source": [
    "df = pd.read_csv('./data/sql_prompt_pairs.csv')"
   ]
  },
  {
   "cell_type": "code",
   "execution_count": 64,
   "metadata": {},
   "outputs": [],
   "source": [
    "#storing the prompts for future evaluation step\n",
    "pattern = r'[.?\\n]'\n",
    "prompts = []\n",
    "for i in range(len(df)):\n",
    "    prompt_sentence = re.split(pattern, df.loc[i, 'prompt'])[0]\n",
    "    prompts.append(prompt_sentence)\n"
   ]
  },
  {
   "cell_type": "code",
   "execution_count": 69,
   "metadata": {},
   "outputs": [],
   "source": [
    "prompts = pd.Series(prompts)\n",
    "prompts.to_csv('./data/prompts.csv', index = False)"
   ]
  },
  {
   "cell_type": "code",
   "execution_count": null,
   "metadata": {},
   "outputs": [],
   "source": []
  }
 ],
 "metadata": {
  "kernelspec": {
   "display_name": "autogen",
   "language": "python",
   "name": "python3"
  },
  "language_info": {
   "codemirror_mode": {
    "name": "ipython",
    "version": 3
   },
   "file_extension": ".py",
   "mimetype": "text/x-python",
   "name": "python",
   "nbconvert_exporter": "python",
   "pygments_lexer": "ipython3",
   "version": "3.11.4"
  }
 },
 "nbformat": 4,
 "nbformat_minor": 2
}
