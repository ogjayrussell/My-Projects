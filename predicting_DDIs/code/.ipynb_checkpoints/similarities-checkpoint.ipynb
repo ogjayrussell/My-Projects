{
 "cells": [
  {
   "cell_type": "code",
   "execution_count": 74,
   "id": "db311587-7887-4650-ab61-bfce84f49d4f",
   "metadata": {},
   "outputs": [],
   "source": [
    "import pandas as pd\n",
    "import math\n",
    "from itertools import product"
   ]
  },
  {
   "cell_type": "code",
   "execution_count": 38,
   "id": "31b20725-3a00-49d0-aa33-69028df84658",
   "metadata": {},
   "outputs": [],
   "source": [
    "#chemical structures sourced from ChEMBL\n",
    "structures = pd.read_csv('/Users/jayrussell/Desktop/GA/CAPSTONE/data/drug similarities/structure links.csv')\n",
    "known_drugs = pd.read_csv('/Users/jayrussell/Desktop/GA/CAPSTONE/data/cleaned data/known_drugs.csv')\n",
    "interactions = pd.read_csv('/Users/jayrussell/Desktop/GA/CAPSTONE/data/cleaned data/interactions.csv')\n",
    "lookup = pd.read_csv('/Users/jayrussell/Desktop/GA/CAPSTONE/data/cleaned data/all_drugs_lookup.csv')\n",
    "\n",
    "#may include more similarity metrics i.e. metabolic pathways, metabolic enzyme, side effects..."
   ]
  },
  {
   "cell_type": "markdown",
   "id": "c81a9984-9305-4468-9149-b63fdc8c276d",
   "metadata": {},
   "source": [
    "### Cleaning structures"
   ]
  },
  {
   "cell_type": "code",
   "execution_count": 39,
   "id": "157fb835-5993-4679-bf8d-f98c29eebb8b",
   "metadata": {},
   "outputs": [
    {
     "data": {
      "text/html": [
       "<div>\n",
       "<style scoped>\n",
       "    .dataframe tbody tr th:only-of-type {\n",
       "        vertical-align: middle;\n",
       "    }\n",
       "\n",
       "    .dataframe tbody tr th {\n",
       "        vertical-align: top;\n",
       "    }\n",
       "\n",
       "    .dataframe thead th {\n",
       "        text-align: right;\n",
       "    }\n",
       "</style>\n",
       "<table border=\"1\" class=\"dataframe\">\n",
       "  <thead>\n",
       "    <tr style=\"text-align: right;\">\n",
       "      <th></th>\n",
       "      <th>DrugBank ID</th>\n",
       "      <th>Name</th>\n",
       "      <th>CAS Number</th>\n",
       "      <th>Drug Groups</th>\n",
       "      <th>InChIKey</th>\n",
       "      <th>InChI</th>\n",
       "      <th>SMILES</th>\n",
       "      <th>Formula</th>\n",
       "      <th>KEGG Compound ID</th>\n",
       "      <th>KEGG Drug ID</th>\n",
       "      <th>PubChem Compound ID</th>\n",
       "      <th>PubChem Substance ID</th>\n",
       "      <th>ChEBI ID</th>\n",
       "      <th>ChEMBL ID</th>\n",
       "      <th>HET ID</th>\n",
       "      <th>ChemSpider ID</th>\n",
       "      <th>BindingDB ID</th>\n",
       "    </tr>\n",
       "  </thead>\n",
       "  <tbody>\n",
       "    <tr>\n",
       "      <th>0</th>\n",
       "      <td>DB00006</td>\n",
       "      <td>Bivalirudin</td>\n",
       "      <td>128270-60-0</td>\n",
       "      <td>approved; investigational</td>\n",
       "      <td>OIRCOABEOLEUMC-GEJPAHFPSA-N</td>\n",
       "      <td>InChI=1S/C98H138N24O33/c1-5-52(4)82(96(153)122...</td>\n",
       "      <td>CC[C@H](C)[C@H](NC(=O)[C@H](CCC(O)=O)NC(=O)[C@...</td>\n",
       "      <td>C98H138N24O33</td>\n",
       "      <td>NaN</td>\n",
       "      <td>D03136</td>\n",
       "      <td>16129704.0</td>\n",
       "      <td>46507415.0</td>\n",
       "      <td>59173.0</td>\n",
       "      <td>CHEMBL2103749</td>\n",
       "      <td>NaN</td>\n",
       "      <td>10482069.0</td>\n",
       "      <td>50248103.0</td>\n",
       "    </tr>\n",
       "    <tr>\n",
       "      <th>1</th>\n",
       "      <td>DB00007</td>\n",
       "      <td>Leuprolide</td>\n",
       "      <td>53714-56-0</td>\n",
       "      <td>approved; investigational</td>\n",
       "      <td>GFIJNRVAKGFPGQ-LIJARHBVSA-N</td>\n",
       "      <td>InChI=1S/C59H84N16O12/c1-6-63-57(86)48-14-10-2...</td>\n",
       "      <td>CCNC(=O)[C@@H]1CCCN1C(=O)[C@H](CCCNC(N)=N)NC(=...</td>\n",
       "      <td>C59H84N16O12</td>\n",
       "      <td>C07612</td>\n",
       "      <td>D08113</td>\n",
       "      <td>NaN</td>\n",
       "      <td>46507635.0</td>\n",
       "      <td>6427.0</td>\n",
       "      <td>CHEMBL1201199</td>\n",
       "      <td>NaN</td>\n",
       "      <td>571356.0</td>\n",
       "      <td>50369395.0</td>\n",
       "    </tr>\n",
       "    <tr>\n",
       "      <th>2</th>\n",
       "      <td>DB00014</td>\n",
       "      <td>Goserelin</td>\n",
       "      <td>65807-02-5</td>\n",
       "      <td>approved</td>\n",
       "      <td>BLCLNMBMMGCOAS-URPVMXJPSA-N</td>\n",
       "      <td>InChI=1S/C59H84N18O14/c1-31(2)22-40(49(82)68-3...</td>\n",
       "      <td>CC(C)C[C@H](NC(=O)[C@@H](COC(C)(C)C)NC(=O)[C@H...</td>\n",
       "      <td>C59H84N18O14</td>\n",
       "      <td>NaN</td>\n",
       "      <td>D00573</td>\n",
       "      <td>5311128.0</td>\n",
       "      <td>46507336.0</td>\n",
       "      <td>5523.0</td>\n",
       "      <td>CHEMBL1201247</td>\n",
       "      <td>NaN</td>\n",
       "      <td>4470656.0</td>\n",
       "      <td>NaN</td>\n",
       "    </tr>\n",
       "    <tr>\n",
       "      <th>3</th>\n",
       "      <td>DB00027</td>\n",
       "      <td>Gramicidin D</td>\n",
       "      <td>1405-97-6</td>\n",
       "      <td>approved</td>\n",
       "      <td>NDAYQJDHGXTBJL-MWWSRJDJSA-N</td>\n",
       "      <td>InChI=1S/C96H135N19O16/c1-50(2)36-71(105-79(11...</td>\n",
       "      <td>CC(C)C[C@@H](NC(=O)CNC(=O)[C@@H](NC=O)C(C)C)C(...</td>\n",
       "      <td>C96H135N19O16</td>\n",
       "      <td>NaN</td>\n",
       "      <td>D04369</td>\n",
       "      <td>45267103.0</td>\n",
       "      <td>46507412.0</td>\n",
       "      <td>NaN</td>\n",
       "      <td>CHEMBL557217</td>\n",
       "      <td>NaN</td>\n",
       "      <td>24623445.0</td>\n",
       "      <td>NaN</td>\n",
       "    </tr>\n",
       "    <tr>\n",
       "      <th>4</th>\n",
       "      <td>DB00035</td>\n",
       "      <td>Desmopressin</td>\n",
       "      <td>16679-58-6</td>\n",
       "      <td>approved</td>\n",
       "      <td>NFLWUMRGJYTJIN-PNIOQBSNSA-N</td>\n",
       "      <td>InChI=1S/C46H64N14O12S2/c47-35(62)15-14-29-40(...</td>\n",
       "      <td>NC(=O)CC[C@@H]1NC(=O)[C@H](CC2=CC=CC=C2)NC(=O)...</td>\n",
       "      <td>C46H64N14O12S2</td>\n",
       "      <td>C06944</td>\n",
       "      <td>D00291</td>\n",
       "      <td>NaN</td>\n",
       "      <td>NaN</td>\n",
       "      <td>4450.0</td>\n",
       "      <td>CHEMBL1429</td>\n",
       "      <td>NaN</td>\n",
       "      <td>4470602.0</td>\n",
       "      <td>50205308.0</td>\n",
       "    </tr>\n",
       "  </tbody>\n",
       "</table>\n",
       "</div>"
      ],
      "text/plain": [
       "  DrugBank ID          Name   CAS Number                Drug Groups  \\\n",
       "0     DB00006   Bivalirudin  128270-60-0  approved; investigational   \n",
       "1     DB00007    Leuprolide   53714-56-0  approved; investigational   \n",
       "2     DB00014     Goserelin   65807-02-5                   approved   \n",
       "3     DB00027  Gramicidin D    1405-97-6                   approved   \n",
       "4     DB00035  Desmopressin   16679-58-6                   approved   \n",
       "\n",
       "                      InChIKey  \\\n",
       "0  OIRCOABEOLEUMC-GEJPAHFPSA-N   \n",
       "1  GFIJNRVAKGFPGQ-LIJARHBVSA-N   \n",
       "2  BLCLNMBMMGCOAS-URPVMXJPSA-N   \n",
       "3  NDAYQJDHGXTBJL-MWWSRJDJSA-N   \n",
       "4  NFLWUMRGJYTJIN-PNIOQBSNSA-N   \n",
       "\n",
       "                                               InChI  \\\n",
       "0  InChI=1S/C98H138N24O33/c1-5-52(4)82(96(153)122...   \n",
       "1  InChI=1S/C59H84N16O12/c1-6-63-57(86)48-14-10-2...   \n",
       "2  InChI=1S/C59H84N18O14/c1-31(2)22-40(49(82)68-3...   \n",
       "3  InChI=1S/C96H135N19O16/c1-50(2)36-71(105-79(11...   \n",
       "4  InChI=1S/C46H64N14O12S2/c47-35(62)15-14-29-40(...   \n",
       "\n",
       "                                              SMILES         Formula  \\\n",
       "0  CC[C@H](C)[C@H](NC(=O)[C@H](CCC(O)=O)NC(=O)[C@...   C98H138N24O33   \n",
       "1  CCNC(=O)[C@@H]1CCCN1C(=O)[C@H](CCCNC(N)=N)NC(=...    C59H84N16O12   \n",
       "2  CC(C)C[C@H](NC(=O)[C@@H](COC(C)(C)C)NC(=O)[C@H...    C59H84N18O14   \n",
       "3  CC(C)C[C@@H](NC(=O)CNC(=O)[C@@H](NC=O)C(C)C)C(...   C96H135N19O16   \n",
       "4  NC(=O)CC[C@@H]1NC(=O)[C@H](CC2=CC=CC=C2)NC(=O)...  C46H64N14O12S2   \n",
       "\n",
       "  KEGG Compound ID KEGG Drug ID  PubChem Compound ID  PubChem Substance ID  \\\n",
       "0              NaN       D03136           16129704.0            46507415.0   \n",
       "1           C07612       D08113                  NaN            46507635.0   \n",
       "2              NaN       D00573            5311128.0            46507336.0   \n",
       "3              NaN       D04369           45267103.0            46507412.0   \n",
       "4           C06944       D00291                  NaN                   NaN   \n",
       "\n",
       "   ChEBI ID      ChEMBL ID HET ID  ChemSpider ID  BindingDB ID  \n",
       "0   59173.0  CHEMBL2103749    NaN     10482069.0    50248103.0  \n",
       "1    6427.0  CHEMBL1201199    NaN       571356.0    50369395.0  \n",
       "2    5523.0  CHEMBL1201247    NaN      4470656.0           NaN  \n",
       "3       NaN   CHEMBL557217    NaN     24623445.0           NaN  \n",
       "4    4450.0     CHEMBL1429    NaN      4470602.0    50205308.0  "
      ]
     },
     "execution_count": 39,
     "metadata": {},
     "output_type": "execute_result"
    }
   ],
   "source": [
    "structures.head()"
   ]
  },
  {
   "cell_type": "code",
   "execution_count": 40,
   "id": "88a1c3ef-bdde-44d6-ae31-615ddb5d4499",
   "metadata": {},
   "outputs": [],
   "source": [
    "structures.columns = structures.columns.str.lower().str.replace(' ', '_')"
   ]
  },
  {
   "cell_type": "code",
   "execution_count": 41,
   "id": "3fad781f-4612-4a6d-b8cf-ae9019efb4d8",
   "metadata": {},
   "outputs": [
    {
     "name": "stdout",
     "output_type": "stream",
     "text": [
      "<class 'pandas.core.frame.DataFrame'>\n",
      "RangeIndex: 11912 entries, 0 to 11911\n",
      "Data columns (total 17 columns):\n",
      " #   Column                Non-Null Count  Dtype  \n",
      "---  ------                --------------  -----  \n",
      " 0   drugbank_id           11912 non-null  object \n",
      " 1   name                  11912 non-null  object \n",
      " 2   cas_number            8005 non-null   object \n",
      " 3   drug_groups           11912 non-null  object \n",
      " 4   inchikey              11300 non-null  object \n",
      " 5   inchi                 11300 non-null  object \n",
      " 6   smiles                11297 non-null  object \n",
      " 7   formula               11302 non-null  object \n",
      " 8   kegg_compound_id      2324 non-null   object \n",
      " 9   kegg_drug_id          2046 non-null   object \n",
      " 10  pubchem_compound_id   8720 non-null   float64\n",
      " 11  pubchem_substance_id  9194 non-null   float64\n",
      " 12  chebi_id              5224 non-null   float64\n",
      " 13  chembl_id             7854 non-null   object \n",
      " 14  het_id                6024 non-null   object \n",
      " 15  chemspider_id         11174 non-null  float64\n",
      " 16  bindingdb_id          4790 non-null   float64\n",
      "dtypes: float64(5), object(12)\n",
      "memory usage: 1.5+ MB\n"
     ]
    }
   ],
   "source": [
    "structures.info()"
   ]
  },
  {
   "cell_type": "code",
   "execution_count": 42,
   "id": "923e54ae-6d56-4003-a00a-5295fc81040e",
   "metadata": {},
   "outputs": [],
   "source": [
    "structures= structures[['name', 'smiles']]\n",
    "structures = structures.dropna(axis = 0)"
   ]
  },
  {
   "cell_type": "code",
   "execution_count": 43,
   "id": "be92b098-ac75-4e45-97bb-3719694dd9de",
   "metadata": {},
   "outputs": [
    {
     "data": {
      "text/plain": [
       "(11297, 2)"
      ]
     },
     "execution_count": 43,
     "metadata": {},
     "output_type": "execute_result"
    }
   ],
   "source": [
    "structures.shape"
   ]
  },
  {
   "cell_type": "code",
   "execution_count": 52,
   "id": "85b73ec5-9e20-4950-9e29-c2e81831bcad",
   "metadata": {},
   "outputs": [],
   "source": [
    "#preparing for merge with lookup dataset\n",
    "structures = structures.rename(columns = {'name': 'drug_name'})"
   ]
  },
  {
   "cell_type": "markdown",
   "id": "536c89fd-1e00-4c53-aebf-b9c6de787801",
   "metadata": {},
   "source": [
    "**combining the list of available drugs to their smiles chemical structures**"
   ]
  },
  {
   "cell_type": "code",
   "execution_count": 47,
   "id": "605c7439-a619-43f6-bf47-982b7a88a910",
   "metadata": {},
   "outputs": [],
   "source": [
    "#list of all of the drugs\n",
    "lookup = lookup.drop(columns= ['druga_id'])"
   ]
  },
  {
   "cell_type": "code",
   "execution_count": 51,
   "id": "6dde9ef6-9cdd-4046-a91a-8f2cf83a0465",
   "metadata": {},
   "outputs": [],
   "source": [
    "lookup['drug_name'] = lookup['drug_name'].str.lower()\n",
    "structures['drug_name'] = structures['drug_name'].str.lower()"
   ]
  },
  {
   "cell_type": "code",
   "execution_count": 62,
   "id": "e10e79e1-ed95-464a-8702-b3cddf700c7f",
   "metadata": {},
   "outputs": [],
   "source": [
    "chem_sim = pd.merge(lookup, structures, on= 'drug_name', how='inner')"
   ]
  },
  {
   "cell_type": "code",
   "execution_count": 67,
   "id": "45a65867-b5aa-455b-a09c-c2efc18e58f9",
   "metadata": {},
   "outputs": [
    {
     "data": {
      "text/plain": [
       "(1413, 2)"
      ]
     },
     "execution_count": 67,
     "metadata": {},
     "output_type": "execute_result"
    }
   ],
   "source": [
    "chem_sim.shape"
   ]
  },
  {
   "cell_type": "code",
   "execution_count": 68,
   "id": "25797f8d-63d6-4545-8ed9-6977ba87eac2",
   "metadata": {},
   "outputs": [
    {
     "data": {
      "text/plain": [
       "1996569"
      ]
     },
     "execution_count": 68,
     "metadata": {},
     "output_type": "execute_result"
    }
   ],
   "source": [
    "1413*1413"
   ]
  },
  {
   "cell_type": "code",
   "execution_count": 71,
   "id": "da3232aa-deef-4509-af76-deadb713ea6f",
   "metadata": {},
   "outputs": [],
   "source": [
    "n = chem_sim.shape[0]*chem_sim.shape[0]\n",
    "drug_a = chem_sim.sample(n=n, replace=True, random_state=0).reset_index(drop=True)\n",
    "drug_b = chem_sim.sample(n=n, replace=True, random_state=42).reset_index(drop=True)\n",
    "combos = pd.merge(drug_a,drug_b, left_index=True, right_index=True)"
   ]
  },
  {
   "cell_type": "code",
   "execution_count": 73,
   "id": "3eafb988-c716-440f-83c8-a794e2505ac0",
   "metadata": {},
   "outputs": [
    {
     "data": {
      "text/html": [
       "<div>\n",
       "<style scoped>\n",
       "    .dataframe tbody tr th:only-of-type {\n",
       "        vertical-align: middle;\n",
       "    }\n",
       "\n",
       "    .dataframe tbody tr th {\n",
       "        vertical-align: top;\n",
       "    }\n",
       "\n",
       "    .dataframe thead th {\n",
       "        text-align: right;\n",
       "    }\n",
       "</style>\n",
       "<table border=\"1\" class=\"dataframe\">\n",
       "  <thead>\n",
       "    <tr style=\"text-align: right;\">\n",
       "      <th></th>\n",
       "      <th>drug_name_x</th>\n",
       "      <th>smiles_x</th>\n",
       "      <th>drug_name_y</th>\n",
       "      <th>smiles_y</th>\n",
       "    </tr>\n",
       "  </thead>\n",
       "  <tbody>\n",
       "    <tr>\n",
       "      <th>0</th>\n",
       "      <td>kava</td>\n",
       "      <td>COC1=CC(=O)OC(C1)\\C=C\\C1=CCCC=C1</td>\n",
       "      <td>repaglinide</td>\n",
       "      <td>CCOC1=C(C=CC(CC(=O)N[C@@H](CC(C)C)C2=CC=CC=C2N...</td>\n",
       "    </tr>\n",
       "    <tr>\n",
       "      <th>1</th>\n",
       "      <td>gadobutrol</td>\n",
       "      <td>OC[C@H](O)[C@H](CO)[N+]12CC[N+]3(CC([O-])=O)CC...</td>\n",
       "      <td>miltefosine</td>\n",
       "      <td>CCCCCCCCCCCCCCCCOP([O-])(=O)OCC[N+](C)(C)C</td>\n",
       "    </tr>\n",
       "    <tr>\n",
       "      <th>2</th>\n",
       "      <td>spironolactone</td>\n",
       "      <td>[H][C@@]12CC[C@@]3(CCC(=O)O3)[C@@]1(C)CC[C@@]1...</td>\n",
       "      <td>tipiracil</td>\n",
       "      <td>ClC1=C(CN2CCCC2=N)NC(=O)NC1=O</td>\n",
       "    </tr>\n",
       "    <tr>\n",
       "      <th>3</th>\n",
       "      <td>methylphenobarbital</td>\n",
       "      <td>CCC1(C(=O)NC(=O)N(C)C1=O)C1=CC=CC=C1</td>\n",
       "      <td>ribociclib</td>\n",
       "      <td>CN(C)C(=O)C1=CC2=CN=C(NC3=CC=C(C=N3)N3CCNCC3)N...</td>\n",
       "    </tr>\n",
       "    <tr>\n",
       "      <th>4</th>\n",
       "      <td>lurbinectedin</td>\n",
       "      <td>[H][C@@]12[C@@H]3SC[C@]4(NCCC5=C4NC4=CC=C(OC)C...</td>\n",
       "      <td>prucalopride</td>\n",
       "      <td>COCCCN1CCC(CC1)NC(=O)C1=C2OCCC2=C(N)C(Cl)=C1</td>\n",
       "    </tr>\n",
       "  </tbody>\n",
       "</table>\n",
       "</div>"
      ],
      "text/plain": [
       "           drug_name_x                                           smiles_x  \\\n",
       "0                 kava                   COC1=CC(=O)OC(C1)\\C=C\\C1=CCCC=C1   \n",
       "1           gadobutrol  OC[C@H](O)[C@H](CO)[N+]12CC[N+]3(CC([O-])=O)CC...   \n",
       "2       spironolactone  [H][C@@]12CC[C@@]3(CCC(=O)O3)[C@@]1(C)CC[C@@]1...   \n",
       "3  methylphenobarbital               CCC1(C(=O)NC(=O)N(C)C1=O)C1=CC=CC=C1   \n",
       "4        lurbinectedin  [H][C@@]12[C@@H]3SC[C@]4(NCCC5=C4NC4=CC=C(OC)C...   \n",
       "\n",
       "    drug_name_y                                           smiles_y  \n",
       "0   repaglinide  CCOC1=C(C=CC(CC(=O)N[C@@H](CC(C)C)C2=CC=CC=C2N...  \n",
       "1   miltefosine         CCCCCCCCCCCCCCCCOP([O-])(=O)OCC[N+](C)(C)C  \n",
       "2     tipiracil                      ClC1=C(CN2CCCC2=N)NC(=O)NC1=O  \n",
       "3    ribociclib  CN(C)C(=O)C1=CC2=CN=C(NC3=CC=C(C=N3)N3CCNCC3)N...  \n",
       "4  prucalopride       COCCCN1CCC(CC1)NC(=O)C1=C2OCCC2=C(N)C(Cl)=C1  "
      ]
     },
     "execution_count": 73,
     "metadata": {},
     "output_type": "execute_result"
    }
   ],
   "source": [
    "combos.head()"
   ]
  },
  {
   "cell_type": "code",
   "execution_count": null,
   "id": "e02ee93d-662b-4b9d-bdd9-c05c241c310c",
   "metadata": {},
   "outputs": [],
   "source": [
    "#updating interactions, losing 500 known interactions"
   ]
  },
  {
   "cell_type": "code",
   "execution_count": null,
   "id": "cccc8b47-7dc0-430e-bc15-712162f76479",
   "metadata": {},
   "outputs": [],
   "source": []
  },
  {
   "cell_type": "markdown",
   "id": "6e0e9e27-a1ef-4ba3-aa15-b59fec265841",
   "metadata": {},
   "source": [
    "# Feature Engineering"
   ]
  },
  {
   "cell_type": "markdown",
   "id": "59d7bc7a-2eee-45cb-8817-54bccc900e82",
   "metadata": {},
   "source": [
    "## Similarity scores"
   ]
  },
  {
   "cell_type": "markdown",
   "id": "516f44b0-bdbe-4ee4-9dc2-891e1b9563aa",
   "metadata": {},
   "source": [
    "### 1. Chemical Structure"
   ]
  },
  {
   "cell_type": "code",
   "execution_count": 25,
   "id": "29cd24d5-d4bd-4832-9145-d567ef730361",
   "metadata": {},
   "outputs": [],
   "source": [
    "new_drugs = pd.read_csv('/Users/jayrussell/Desktop/GA/CAPSTONE/data/cleaned data/new_drugs.csv')\n",
    "known_drugs = pd.read_csv('/Users/jayrussell/Desktop/GA/CAPSTONE/data/cleaned data/known_drugs.csv')"
   ]
  },
  {
   "cell_type": "code",
   "execution_count": 26,
   "id": "44c95eba-8e65-427c-96e3-2e8b4e674894",
   "metadata": {},
   "outputs": [
    {
     "data": {
      "text/html": [
       "<div>\n",
       "<style scoped>\n",
       "    .dataframe tbody tr th:only-of-type {\n",
       "        vertical-align: middle;\n",
       "    }\n",
       "\n",
       "    .dataframe tbody tr th {\n",
       "        vertical-align: top;\n",
       "    }\n",
       "\n",
       "    .dataframe thead th {\n",
       "        text-align: right;\n",
       "    }\n",
       "</style>\n",
       "<table border=\"1\" class=\"dataframe\">\n",
       "  <thead>\n",
       "    <tr style=\"text-align: right;\">\n",
       "      <th></th>\n",
       "      <th>drug_a</th>\n",
       "      <th>drug_b</th>\n",
       "      <th>interaction</th>\n",
       "    </tr>\n",
       "  </thead>\n",
       "  <tbody>\n",
       "    <tr>\n",
       "      <th>0</th>\n",
       "      <td>Goserelin</td>\n",
       "      <td>Simvastatin</td>\n",
       "      <td>0</td>\n",
       "    </tr>\n",
       "    <tr>\n",
       "      <th>1</th>\n",
       "      <td>Goserelin</td>\n",
       "      <td>Misoprostol</td>\n",
       "      <td>0</td>\n",
       "    </tr>\n",
       "    <tr>\n",
       "      <th>2</th>\n",
       "      <td>Goserelin</td>\n",
       "      <td>Rosuvastatin</td>\n",
       "      <td>0</td>\n",
       "    </tr>\n",
       "    <tr>\n",
       "      <th>3</th>\n",
       "      <td>Desmopressin</td>\n",
       "      <td>Lactulose</td>\n",
       "      <td>0</td>\n",
       "    </tr>\n",
       "    <tr>\n",
       "      <th>4</th>\n",
       "      <td>Desmopressin</td>\n",
       "      <td>Simvastatin</td>\n",
       "      <td>0</td>\n",
       "    </tr>\n",
       "    <tr>\n",
       "      <th>...</th>\n",
       "      <td>...</td>\n",
       "      <td>...</td>\n",
       "      <td>...</td>\n",
       "    </tr>\n",
       "    <tr>\n",
       "      <th>47177</th>\n",
       "      <td>Dexamethasone</td>\n",
       "      <td>Galactose</td>\n",
       "      <td>0</td>\n",
       "    </tr>\n",
       "    <tr>\n",
       "      <th>47178</th>\n",
       "      <td>Sodium bicarbonate</td>\n",
       "      <td>Galactose</td>\n",
       "      <td>0</td>\n",
       "    </tr>\n",
       "    <tr>\n",
       "      <th>47179</th>\n",
       "      <td>Cefepime</td>\n",
       "      <td>Galactose</td>\n",
       "      <td>0</td>\n",
       "    </tr>\n",
       "    <tr>\n",
       "      <th>47180</th>\n",
       "      <td>Ursodeoxycholic acid</td>\n",
       "      <td>Galactose</td>\n",
       "      <td>0</td>\n",
       "    </tr>\n",
       "    <tr>\n",
       "      <th>47181</th>\n",
       "      <td>Sevelamer</td>\n",
       "      <td>Fluticasone</td>\n",
       "      <td>0</td>\n",
       "    </tr>\n",
       "  </tbody>\n",
       "</table>\n",
       "<p>47182 rows × 3 columns</p>\n",
       "</div>"
      ],
      "text/plain": [
       "                     drug_a        drug_b  interaction\n",
       "0                 Goserelin   Simvastatin            0\n",
       "1                 Goserelin   Misoprostol            0\n",
       "2                 Goserelin  Rosuvastatin            0\n",
       "3              Desmopressin     Lactulose            0\n",
       "4              Desmopressin   Simvastatin            0\n",
       "...                     ...           ...          ...\n",
       "47177         Dexamethasone     Galactose            0\n",
       "47178    Sodium bicarbonate     Galactose            0\n",
       "47179              Cefepime     Galactose            0\n",
       "47180  Ursodeoxycholic acid     Galactose            0\n",
       "47181             Sevelamer   Fluticasone            0\n",
       "\n",
       "[47182 rows x 3 columns]"
      ]
     },
     "execution_count": 26,
     "metadata": {},
     "output_type": "execute_result"
    }
   ],
   "source": [
    "new_drugs"
   ]
  },
  {
   "cell_type": "code",
   "execution_count": 13,
   "id": "6380ae3d-633d-4a78-bb65-9deb4124478b",
   "metadata": {},
   "outputs": [],
   "source": [
    "chem_sim = structures[['trade_name','ingredient','standard_inchi']]"
   ]
  },
  {
   "cell_type": "code",
   "execution_count": 14,
   "id": "83ffeb93-705d-46aa-83d1-76c64d068f5a",
   "metadata": {},
   "outputs": [],
   "source": [
    "#need to concat the drugs with multiple ingredients\n",
    "duplicates = chem_sim[chem_sim.duplicated(subset = 'trade_name')]\n",
    "dup_name = list(duplicates['trade_name'])"
   ]
  },
  {
   "cell_type": "code",
   "execution_count": 15,
   "id": "f840cdda-044f-432c-ab4f-751041386346",
   "metadata": {},
   "outputs": [
    {
     "data": {
      "text/plain": [
       "23779"
      ]
     },
     "execution_count": 15,
     "metadata": {},
     "output_type": "execute_result"
    }
   ],
   "source": [
    "len(structures)"
   ]
  },
  {
   "cell_type": "code",
   "execution_count": 16,
   "id": "8ccfaca5-a801-4e18-8775-17e0f64d68c8",
   "metadata": {},
   "outputs": [
    {
     "data": {
      "text/plain": [
       "17146"
      ]
     },
     "execution_count": 16,
     "metadata": {},
     "output_type": "execute_result"
    }
   ],
   "source": [
    "len(dup_name)"
   ]
  },
  {
   "cell_type": "code",
   "execution_count": null,
   "id": "24224ac7-dcf2-4888-90ae-d63f7196cca9",
   "metadata": {},
   "outputs": [],
   "source": []
  },
  {
   "cell_type": "code",
   "execution_count": null,
   "id": "55f6d968-4b6c-4e5a-b88e-cb6f54fdaa06",
   "metadata": {},
   "outputs": [],
   "source": []
  },
  {
   "cell_type": "code",
   "execution_count": null,
   "id": "bec8c1c8-715a-43c5-b92c-f07278602485",
   "metadata": {},
   "outputs": [],
   "source": [
    "# code from Martjin Pieters\n",
    "def counter_cosine_similarity(c1, c2):\n",
    "    terms = set(c1).union(c2)\n",
    "    dotprod = sum(c1.get(k, 0) * c2.get(k, 0) for k in terms)\n",
    "    magA = math.sqrt(sum(c1.get(k, 0)**2 for k in terms))\n",
    "    magB = math.sqrt(sum(c2.get(k, 0)**2 for k in terms))\n",
    "    return dotprod / (magA * magB)"
   ]
  }
 ],
 "metadata": {
  "kernelspec": {
   "display_name": "Python 3 (ipykernel)",
   "language": "python",
   "name": "python3"
  },
  "language_info": {
   "codemirror_mode": {
    "name": "ipython",
    "version": 3
   },
   "file_extension": ".py",
   "mimetype": "text/x-python",
   "name": "python",
   "nbconvert_exporter": "python",
   "pygments_lexer": "ipython3",
   "version": "3.9.12"
  }
 },
 "nbformat": 4,
 "nbformat_minor": 5
}
