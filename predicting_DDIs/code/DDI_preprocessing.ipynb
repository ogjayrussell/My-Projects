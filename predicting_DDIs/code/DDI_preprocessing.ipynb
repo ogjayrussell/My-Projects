{
 "cells": [
  {
   "cell_type": "markdown",
   "metadata": {},
   "source": [
    "# Preprocessing\n",
    "___"
   ]
  },
  {
   "cell_type": "code",
   "execution_count": 3,
   "id": "efe489dd-050d-411a-ae17-84138dc9d5ef",
   "metadata": {},
   "outputs": [
    {
     "name": "stderr",
     "output_type": "stream",
     "text": [
      "/Users/jayrussell/opt/anaconda3/envs/tflow/lib/python3.9/site-packages/scipy/__init__.py:146: UserWarning: A NumPy version >=1.16.5 and <1.23.0 is required for this version of SciPy (detected version 1.23.1\n",
      "  warnings.warn(f\"A NumPy version >={np_minversion} and <{np_maxversion}\"\n",
      "/Users/jayrussell/opt/anaconda3/envs/tflow/lib/python3.9/site-packages/tqdm/auto.py:22: TqdmWarning: IProgress not found. Please update jupyter and ipywidgets. See https://ipywidgets.readthedocs.io/en/stable/user_install.html\n",
      "  from .autonotebook import tqdm as notebook_tqdm\n"
     ]
    }
   ],
   "source": [
    "import pandas as pd\n",
    "import matplotlib.pyplot as plt\n",
    "import math\n",
    "import codecs\n",
    "from SmilesPE.tokenizer import *\n",
    "from collections import Counter\n",
    "from deepchem.feat.smiles_tokenizer import SmilesTokenizer\n",
    "import os\n",
    "from sklearn.preprocessing import LabelEncoder"
   ]
  },
  {
   "cell_type": "markdown",
   "id": "12f5f263-8c17-42a9-8881-aa46bb27f922",
   "metadata": {},
   "source": [
    "______\n",
    "## 1. Drug to Drug interactions dataset (DDI)"
   ]
  },
  {
   "cell_type": "markdown",
   "metadata": {},
   "source": [
    "### a. Interactions\n",
    "Create the dataset 'interactions' with confirmed drug to drug interactions"
   ]
  },
  {
   "cell_type": "code",
   "execution_count": 4,
   "id": "51a8a364-06b3-4c6e-938e-309162ce68ba",
   "metadata": {},
   "outputs": [],
   "source": [
    "#Interaction involving alimentary tract and metabolism drugs\n",
    "alimentary = pd.read_csv('../data/drug interactions/ddinter_downloads_code_A.csv')\n",
    "#Interaction involving blood and blood forming organs drugs\n",
    "blood = pd.read_csv('../data/drug interactions/ddinter_downloads_code_B.csv')\n",
    "#Interaction involving dermatological drugs\n",
    "derma = pd.read_csv('../data/drug interactions/ddinter_downloads_code_D.csv')\n",
    "#Interaction involving systemic hormonal preparations, excluding sex hormones and insulins drugs\n",
    "hormonal = pd.read_csv('../data/drug interactions/ddinter_downloads_code_H.csv')\n",
    "#Interaction involving antineoplastic and immunomodulating agents drugs\n",
    "immuno = pd.read_csv('../data/drug interactions/ddinter_downloads_code_L.csv')\n",
    "#Interaction involving antiparasitic products, insecticides and repellents drugs\n",
    "para = pd.read_csv('../data/drug interactions/ddinter_downloads_code_P.csv')\n",
    "#Interaction involving respiratory system drugs\n",
    "respiratory = pd.read_csv('../data/drug interactions/ddinter_downloads_code_R.csv')\n",
    "#Interaction involving various drugs\n",
    "various = pd.read_csv('../data/drug interactions/ddinter_downloads_code_V.csv')\n"
   ]
  },
  {
   "cell_type": "markdown",
   "id": "42b04da6-06c6-46c1-86f1-4180fab8137c",
   "metadata": {},
   "source": [
    "**i. DDI dataset (interactions)**<br>\n",
    "Create a binarized target representing known and unknown interactions between drug_a and drug_b, categorised by the type of DDI involved."
   ]
  },
  {
   "cell_type": "code",
   "execution_count": 5,
   "id": "63ae9dfe-e071-434a-a715-2eb54b0501bb",
   "metadata": {},
   "outputs": [
    {
     "data": {
      "text/plain": [
       "((56367, 5),\n",
       " (15140, 5),\n",
       " (25681, 5),\n",
       " (11727, 5),\n",
       " (65389, 5),\n",
       " (5492, 5),\n",
       " (30563, 5),\n",
       " (12024, 5))"
      ]
     },
     "execution_count": 5,
     "metadata": {},
     "output_type": "execute_result"
    }
   ],
   "source": [
    "alimentary.shape, blood.shape, derma.shape, hormonal.shape, immuno.shape, para.shape, respiratory.shape, various.shape"
   ]
  },
  {
   "cell_type": "code",
   "execution_count": 6,
   "id": "b4c82901-bf7a-4130-9891-a51dbbba2ec3",
   "metadata": {},
   "outputs": [
    {
     "data": {
      "text/html": [
       "<div>\n",
       "<style scoped>\n",
       "    .dataframe tbody tr th:only-of-type {\n",
       "        vertical-align: middle;\n",
       "    }\n",
       "\n",
       "    .dataframe tbody tr th {\n",
       "        vertical-align: top;\n",
       "    }\n",
       "\n",
       "    .dataframe thead th {\n",
       "        text-align: right;\n",
       "    }\n",
       "</style>\n",
       "<table border=\"1\" class=\"dataframe\">\n",
       "  <thead>\n",
       "    <tr style=\"text-align: right;\">\n",
       "      <th></th>\n",
       "      <th>DDInterID_A</th>\n",
       "      <th>Drug_A</th>\n",
       "      <th>DDInterID_B</th>\n",
       "      <th>Drug_B</th>\n",
       "      <th>Level</th>\n",
       "    </tr>\n",
       "  </thead>\n",
       "  <tbody>\n",
       "    <tr>\n",
       "      <th>0</th>\n",
       "      <td>DDInter1263</td>\n",
       "      <td>Naltrexone</td>\n",
       "      <td>DDInter1</td>\n",
       "      <td>Abacavir</td>\n",
       "      <td>Moderate</td>\n",
       "    </tr>\n",
       "    <tr>\n",
       "      <th>1</th>\n",
       "      <td>DDInter1</td>\n",
       "      <td>Abacavir</td>\n",
       "      <td>DDInter1348</td>\n",
       "      <td>Orlistat</td>\n",
       "      <td>Moderate</td>\n",
       "    </tr>\n",
       "    <tr>\n",
       "      <th>2</th>\n",
       "      <td>DDInter58</td>\n",
       "      <td>Aluminum hydroxide</td>\n",
       "      <td>DDInter582</td>\n",
       "      <td>Dolutegravir</td>\n",
       "      <td>Major</td>\n",
       "    </tr>\n",
       "    <tr>\n",
       "      <th>3</th>\n",
       "      <td>DDInter112</td>\n",
       "      <td>Aprepitant</td>\n",
       "      <td>DDInter582</td>\n",
       "      <td>Dolutegravir</td>\n",
       "      <td>Minor</td>\n",
       "    </tr>\n",
       "    <tr>\n",
       "      <th>4</th>\n",
       "      <td>DDInter138</td>\n",
       "      <td>Attapulgite</td>\n",
       "      <td>DDInter582</td>\n",
       "      <td>Dolutegravir</td>\n",
       "      <td>Major</td>\n",
       "    </tr>\n",
       "  </tbody>\n",
       "</table>\n",
       "</div>"
      ],
      "text/plain": [
       "   DDInterID_A              Drug_A  DDInterID_B        Drug_B     Level\n",
       "0  DDInter1263          Naltrexone     DDInter1      Abacavir  Moderate\n",
       "1     DDInter1            Abacavir  DDInter1348      Orlistat  Moderate\n",
       "2    DDInter58  Aluminum hydroxide   DDInter582  Dolutegravir     Major\n",
       "3   DDInter112          Aprepitant   DDInter582  Dolutegravir     Minor\n",
       "4   DDInter138         Attapulgite   DDInter582  Dolutegravir     Major"
      ]
     },
     "execution_count": 6,
     "metadata": {},
     "output_type": "execute_result"
    }
   ],
   "source": [
    "alimentary.head()"
   ]
  },
  {
   "cell_type": "code",
   "execution_count": 7,
   "id": "9a7ed2ad-2070-47be-b649-c42fdba9169c",
   "metadata": {},
   "outputs": [],
   "source": [
    "#labeling each type of interaction\n",
    "types = {\n",
    "    'alimentary': 'alimentary tract and metabolism',\n",
    "    'blood': 'blood and blood forming organs',\n",
    "    'derma': 'dermatological',\n",
    "    'hormonal': 'systemic hormonal preparations',\n",
    "    'immuno': 'antineoplastic and immunomodulating agents',\n",
    "    'para': 'antiparasitic products, insecticides and repellents',\n",
    "    'respiratory': 'respiratory',\n",
    "    'various': 'various'\n",
    "}\n",
    "\n",
    "#renaming the 'type' column in each interaction type df\n",
    "for key, value in types.items():\n",
    "    exec(f'{key}[\"type\"] = \"{value}\"')\n",
    "\n",
    "#concatenating interaction types into 1 df that will represent all DDIs\n",
    "interactions = pd.concat([alimentary, blood, derma, hormonal, immuno, para, respiratory, various]).reset_index(drop = True)"
   ]
  },
  {
   "cell_type": "code",
   "execution_count": 8,
   "id": "f296a62f-9e49-46b6-831d-0fa8c2c05d01",
   "metadata": {},
   "outputs": [
    {
     "data": {
      "text/html": [
       "<div>\n",
       "<style scoped>\n",
       "    .dataframe tbody tr th:only-of-type {\n",
       "        vertical-align: middle;\n",
       "    }\n",
       "\n",
       "    .dataframe tbody tr th {\n",
       "        vertical-align: top;\n",
       "    }\n",
       "\n",
       "    .dataframe thead th {\n",
       "        text-align: right;\n",
       "    }\n",
       "</style>\n",
       "<table border=\"1\" class=\"dataframe\">\n",
       "  <thead>\n",
       "    <tr style=\"text-align: right;\">\n",
       "      <th></th>\n",
       "      <th>DDInterID_A</th>\n",
       "      <th>Drug_A</th>\n",
       "      <th>DDInterID_B</th>\n",
       "      <th>Drug_B</th>\n",
       "      <th>Level</th>\n",
       "      <th>type</th>\n",
       "    </tr>\n",
       "  </thead>\n",
       "  <tbody>\n",
       "    <tr>\n",
       "      <th>0</th>\n",
       "      <td>DDInter1263</td>\n",
       "      <td>Naltrexone</td>\n",
       "      <td>DDInter1</td>\n",
       "      <td>Abacavir</td>\n",
       "      <td>Moderate</td>\n",
       "      <td>alimentary tract and metabolism</td>\n",
       "    </tr>\n",
       "    <tr>\n",
       "      <th>1</th>\n",
       "      <td>DDInter1</td>\n",
       "      <td>Abacavir</td>\n",
       "      <td>DDInter1348</td>\n",
       "      <td>Orlistat</td>\n",
       "      <td>Moderate</td>\n",
       "      <td>alimentary tract and metabolism</td>\n",
       "    </tr>\n",
       "    <tr>\n",
       "      <th>2</th>\n",
       "      <td>DDInter58</td>\n",
       "      <td>Aluminum hydroxide</td>\n",
       "      <td>DDInter582</td>\n",
       "      <td>Dolutegravir</td>\n",
       "      <td>Major</td>\n",
       "      <td>alimentary tract and metabolism</td>\n",
       "    </tr>\n",
       "    <tr>\n",
       "      <th>3</th>\n",
       "      <td>DDInter112</td>\n",
       "      <td>Aprepitant</td>\n",
       "      <td>DDInter582</td>\n",
       "      <td>Dolutegravir</td>\n",
       "      <td>Minor</td>\n",
       "      <td>alimentary tract and metabolism</td>\n",
       "    </tr>\n",
       "    <tr>\n",
       "      <th>4</th>\n",
       "      <td>DDInter138</td>\n",
       "      <td>Attapulgite</td>\n",
       "      <td>DDInter582</td>\n",
       "      <td>Dolutegravir</td>\n",
       "      <td>Major</td>\n",
       "      <td>alimentary tract and metabolism</td>\n",
       "    </tr>\n",
       "  </tbody>\n",
       "</table>\n",
       "</div>"
      ],
      "text/plain": [
       "   DDInterID_A              Drug_A  DDInterID_B        Drug_B     Level  \\\n",
       "0  DDInter1263          Naltrexone     DDInter1      Abacavir  Moderate   \n",
       "1     DDInter1            Abacavir  DDInter1348      Orlistat  Moderate   \n",
       "2    DDInter58  Aluminum hydroxide   DDInter582  Dolutegravir     Major   \n",
       "3   DDInter112          Aprepitant   DDInter582  Dolutegravir     Minor   \n",
       "4   DDInter138         Attapulgite   DDInter582  Dolutegravir     Major   \n",
       "\n",
       "                              type  \n",
       "0  alimentary tract and metabolism  \n",
       "1  alimentary tract and metabolism  \n",
       "2  alimentary tract and metabolism  \n",
       "3  alimentary tract and metabolism  \n",
       "4  alimentary tract and metabolism  "
      ]
     },
     "execution_count": 8,
     "metadata": {},
     "output_type": "execute_result"
    }
   ],
   "source": [
    "interactions.head()"
   ]
  },
  {
   "cell_type": "code",
   "execution_count": 9,
   "id": "06bbe620-5c79-4b64-ad3a-54bc669a24cf",
   "metadata": {},
   "outputs": [
    {
     "name": "stdout",
     "output_type": "stream",
     "text": [
      "<class 'pandas.core.frame.DataFrame'>\n",
      "RangeIndex: 222383 entries, 0 to 222382\n",
      "Data columns (total 6 columns):\n",
      " #   Column       Non-Null Count   Dtype \n",
      "---  ------       --------------   ----- \n",
      " 0   DDInterID_A  222383 non-null  object\n",
      " 1   Drug_A       222383 non-null  object\n",
      " 2   DDInterID_B  222383 non-null  object\n",
      " 3   Drug_B       222383 non-null  object\n",
      " 4   Level        222383 non-null  object\n",
      " 5   type         222383 non-null  object\n",
      "dtypes: object(6)\n",
      "memory usage: 10.2+ MB\n"
     ]
    }
   ],
   "source": [
    "#no null values\n",
    "interactions.info()"
   ]
  },
  {
   "cell_type": "code",
   "execution_count": 10,
   "id": "29777b5e-c209-411c-a026-1d14d9bd28fb",
   "metadata": {},
   "outputs": [
    {
     "data": {
      "text/plain": [
       "1    0.787835\n",
       "0    0.212165\n",
       "Name: interaction, dtype: float64"
      ]
     },
     "execution_count": 10,
     "metadata": {},
     "output_type": "execute_result"
    }
   ],
   "source": [
    "#removing unnecessary columns (IDs)\n",
    "interactions = interactions.drop(columns = ['DDInterID_A', 'DDInterID_B'])\n",
    "interactions.columns = interactions.columns.str.lower()\n",
    "\n",
    "#binarizing 'level' to represent 1 for an interaction, 0 for no interaction\n",
    "interactions['level'] = interactions['level'].map({'Unknown':0, 'Minor': 1, 'Moderate': 1, 'Major': 1})\n",
    "interactions = interactions.rename(columns = {'level': 'interaction'})\n",
    "interactions['interaction'].value_counts(normalize = True)"
   ]
  },
  {
   "cell_type": "code",
   "execution_count": 11,
   "id": "96d1e8a8-5f56-42b8-9f51-30f4d0bb93bd",
   "metadata": {},
   "outputs": [
    {
     "data": {
      "text/html": [
       "<div>\n",
       "<style scoped>\n",
       "    .dataframe tbody tr th:only-of-type {\n",
       "        vertical-align: middle;\n",
       "    }\n",
       "\n",
       "    .dataframe tbody tr th {\n",
       "        vertical-align: top;\n",
       "    }\n",
       "\n",
       "    .dataframe thead th {\n",
       "        text-align: right;\n",
       "    }\n",
       "</style>\n",
       "<table border=\"1\" class=\"dataframe\">\n",
       "  <thead>\n",
       "    <tr style=\"text-align: right;\">\n",
       "      <th></th>\n",
       "      <th>drug_a</th>\n",
       "      <th>drug_b</th>\n",
       "      <th>interaction</th>\n",
       "      <th>type</th>\n",
       "    </tr>\n",
       "  </thead>\n",
       "  <tbody>\n",
       "    <tr>\n",
       "      <th>0</th>\n",
       "      <td>Naltrexone</td>\n",
       "      <td>Abacavir</td>\n",
       "      <td>1</td>\n",
       "      <td>alimentary tract and metabolism</td>\n",
       "    </tr>\n",
       "    <tr>\n",
       "      <th>1</th>\n",
       "      <td>Abacavir</td>\n",
       "      <td>Orlistat</td>\n",
       "      <td>1</td>\n",
       "      <td>alimentary tract and metabolism</td>\n",
       "    </tr>\n",
       "    <tr>\n",
       "      <th>2</th>\n",
       "      <td>Aluminum hydroxide</td>\n",
       "      <td>Dolutegravir</td>\n",
       "      <td>1</td>\n",
       "      <td>alimentary tract and metabolism</td>\n",
       "    </tr>\n",
       "    <tr>\n",
       "      <th>3</th>\n",
       "      <td>Aprepitant</td>\n",
       "      <td>Dolutegravir</td>\n",
       "      <td>1</td>\n",
       "      <td>alimentary tract and metabolism</td>\n",
       "    </tr>\n",
       "    <tr>\n",
       "      <th>4</th>\n",
       "      <td>Attapulgite</td>\n",
       "      <td>Dolutegravir</td>\n",
       "      <td>1</td>\n",
       "      <td>alimentary tract and metabolism</td>\n",
       "    </tr>\n",
       "  </tbody>\n",
       "</table>\n",
       "</div>"
      ],
      "text/plain": [
       "               drug_a        drug_b  interaction  \\\n",
       "0          Naltrexone      Abacavir            1   \n",
       "1            Abacavir      Orlistat            1   \n",
       "2  Aluminum hydroxide  Dolutegravir            1   \n",
       "3          Aprepitant  Dolutegravir            1   \n",
       "4         Attapulgite  Dolutegravir            1   \n",
       "\n",
       "                              type  \n",
       "0  alimentary tract and metabolism  \n",
       "1  alimentary tract and metabolism  \n",
       "2  alimentary tract and metabolism  \n",
       "3  alimentary tract and metabolism  \n",
       "4  alimentary tract and metabolism  "
      ]
     },
     "execution_count": 11,
     "metadata": {},
     "output_type": "execute_result"
    }
   ],
   "source": [
    "interactions.head()"
   ]
  },
  {
   "cell_type": "markdown",
   "id": "35d18238-0389-46d7-8741-0ceb117759eb",
   "metadata": {},
   "source": [
    "### b. Known drugs\n",
    "Create the dataset 'known_drugs' that represents those that have a known positive interaction (1) and explore different routes of administration."
   ]
  },
  {
   "cell_type": "markdown",
   "id": "a38eb2ea-57ea-4a2a-a143-e1e9d9227af2",
   "metadata": {},
   "source": [
    "**i. Find unique positive interactions**<br> <br>**Findings:** 1902 unique drugs that are involved in the dataset."
   ]
  },
  {
   "cell_type": "code",
   "execution_count": 12,
   "id": "06ad17bf-ff81-4bab-bacf-4988cab4ed91",
   "metadata": {},
   "outputs": [
    {
     "data": {
      "text/plain": [
       "(130422, 3)"
      ]
     },
     "execution_count": 12,
     "metadata": {},
     "output_type": "execute_result"
    }
   ],
   "source": [
    "#only show unique known positive intereactions\n",
    "known_drugs = interactions[interactions['interaction'] == 1].reset_index(drop = True).drop(columns = ['interaction'])\n",
    "known_drugs = known_drugs.drop_duplicates(subset= ['drug_a', 'drug_b'])\n",
    "\n",
    "known_drugs.shape"
   ]
  },
  {
   "cell_type": "code",
   "execution_count": 13,
   "id": "6271f1d1-9765-4437-8540-8d072430c511",
   "metadata": {},
   "outputs": [],
   "source": [
    "#drug names will be in lower case\n",
    "for x in known_drugs.columns:\n",
    "    known_drugs[x] = known_drugs[x].str.lower()"
   ]
  },
  {
   "cell_type": "code",
   "execution_count": 21,
   "id": "bada1dc3-802f-4abb-b6ad-d09c4c74e16c",
   "metadata": {
    "tags": []
   },
   "outputs": [],
   "source": [
    "#create list of unique drugs with positive interactions\n",
    "def node_list(df):\n",
    "    node_list = []\n",
    "    for col in df.columns:\n",
    "        for node in df[col]:\n",
    "            node_list.append(node)\n",
    "            \n",
    "    #removing duplicates\n",
    "    node_list = list(set(node_list))\n",
    "    return node_list"
   ]
  },
  {
   "cell_type": "code",
   "execution_count": 15,
   "id": "74d26620-46ed-4620-972f-53131d8f1f91",
   "metadata": {},
   "outputs": [],
   "source": [
    "all_drugs = node_list(known_drugs[['drug_a', 'drug_b']])\n",
    "all_drugs = pd.DataFrame(all_drugs, columns = ['drug_name'])"
   ]
  },
  {
   "cell_type": "code",
   "execution_count": 16,
   "id": "143d8838-e2ae-4a0a-8eb5-9929e2cebae1",
   "metadata": {},
   "outputs": [
    {
     "data": {
      "text/html": [
       "<div>\n",
       "<style scoped>\n",
       "    .dataframe tbody tr th:only-of-type {\n",
       "        vertical-align: middle;\n",
       "    }\n",
       "\n",
       "    .dataframe tbody tr th {\n",
       "        vertical-align: top;\n",
       "    }\n",
       "\n",
       "    .dataframe thead th {\n",
       "        text-align: right;\n",
       "    }\n",
       "</style>\n",
       "<table border=\"1\" class=\"dataframe\">\n",
       "  <thead>\n",
       "    <tr style=\"text-align: right;\">\n",
       "      <th></th>\n",
       "      <th>drug_name</th>\n",
       "    </tr>\n",
       "  </thead>\n",
       "  <tbody>\n",
       "    <tr>\n",
       "      <th>0</th>\n",
       "      <td>indacaterol</td>\n",
       "    </tr>\n",
       "    <tr>\n",
       "      <th>1</th>\n",
       "      <td>cefiderocol</td>\n",
       "    </tr>\n",
       "    <tr>\n",
       "      <th>2</th>\n",
       "      <td>romidepsin</td>\n",
       "    </tr>\n",
       "    <tr>\n",
       "      <th>3</th>\n",
       "      <td>irbesartan</td>\n",
       "    </tr>\n",
       "    <tr>\n",
       "      <th>4</th>\n",
       "      <td>sitagliptin</td>\n",
       "    </tr>\n",
       "  </tbody>\n",
       "</table>\n",
       "</div>"
      ],
      "text/plain": [
       "     drug_name\n",
       "0  indacaterol\n",
       "1  cefiderocol\n",
       "2   romidepsin\n",
       "3   irbesartan\n",
       "4  sitagliptin"
      ]
     },
     "execution_count": 16,
     "metadata": {},
     "output_type": "execute_result"
    }
   ],
   "source": [
    "all_drugs.head()"
   ]
  },
  {
   "cell_type": "code",
   "execution_count": 17,
   "id": "b97e6b69-5cf7-4a61-ad53-84527d302555",
   "metadata": {},
   "outputs": [
    {
     "data": {
      "text/plain": [
       "(1902, 1)"
      ]
     },
     "execution_count": 17,
     "metadata": {},
     "output_type": "execute_result"
    }
   ],
   "source": [
    "#1902 unique drugs in our interaction dataset\n",
    "all_drugs.shape"
   ]
  },
  {
   "cell_type": "markdown",
   "id": "b90e5f25-9d75-4c3a-bfd1-d321ac5a1120",
   "metadata": {
    "tags": []
   },
   "source": [
    "**ii. Exploring routes of administration**<br>\n",
    "Some of the names have annotation describing the route of administration i.e. physostigmine and physostigmine (ophthalmic) meaning the same drug but applied to the eye. Does the route of administration effect the interactions of the drug? Should they be removed?<br>\n",
    "\n",
    "**Findings:** If I get rid of the annotated versions i wont lose much information as they either share most of the same interactions as the regular version of the drug or don't contain many DDIs."
   ]
  },
  {
   "cell_type": "code",
   "execution_count": 18,
   "id": "9d1f00d8-633e-4b64-828c-a27c86e854f4",
   "metadata": {},
   "outputs": [
    {
     "data": {
      "text/html": [
       "<div>\n",
       "<style scoped>\n",
       "    .dataframe tbody tr th:only-of-type {\n",
       "        vertical-align: middle;\n",
       "    }\n",
       "\n",
       "    .dataframe tbody tr th {\n",
       "        vertical-align: top;\n",
       "    }\n",
       "\n",
       "    .dataframe thead th {\n",
       "        text-align: right;\n",
       "    }\n",
       "</style>\n",
       "<table border=\"1\" class=\"dataframe\">\n",
       "  <thead>\n",
       "    <tr style=\"text-align: right;\">\n",
       "      <th></th>\n",
       "      <th>drug_name</th>\n",
       "    </tr>\n",
       "  </thead>\n",
       "  <tbody>\n",
       "    <tr>\n",
       "      <th>637</th>\n",
       "      <td>physostigmine</td>\n",
       "    </tr>\n",
       "    <tr>\n",
       "      <th>828</th>\n",
       "      <td>physostigmine (ophthalmic)</td>\n",
       "    </tr>\n",
       "  </tbody>\n",
       "</table>\n",
       "</div>"
      ],
      "text/plain": [
       "                      drug_name\n",
       "637               physostigmine\n",
       "828  physostigmine (ophthalmic)"
      ]
     },
     "execution_count": 18,
     "metadata": {},
     "output_type": "execute_result"
    }
   ],
   "source": [
    "#example of the annnotation\n",
    "all_drugs[all_drugs['drug_name'].str.contains('physostigmine')]"
   ]
  },
  {
   "cell_type": "code",
   "execution_count": 19,
   "id": "781934a5-8d4c-4309-9f11-f5261298cff4",
   "metadata": {},
   "outputs": [],
   "source": [
    "#complete list of the drugs\n",
    "ad = all_drugs.copy()\n",
    "\n",
    "#complete list of the drugs\n",
    "#flagging drugs with the () notation\n",
    "ad['flag'] = ad['drug_name'].str.find('(')\n",
    "\n",
    "#drugs that aren't flagged with -1 are True\n",
    "ad = ad[ad['flag'] != -1]"
   ]
  },
  {
   "cell_type": "code",
   "execution_count": 20,
   "id": "905c6e00-9abd-4ee4-9101-49d9710e2c98",
   "metadata": {},
   "outputs": [
    {
     "data": {
      "text/html": [
       "<div>\n",
       "<style scoped>\n",
       "    .dataframe tbody tr th:only-of-type {\n",
       "        vertical-align: middle;\n",
       "    }\n",
       "\n",
       "    .dataframe tbody tr th {\n",
       "        vertical-align: top;\n",
       "    }\n",
       "\n",
       "    .dataframe thead th {\n",
       "        text-align: right;\n",
       "    }\n",
       "</style>\n",
       "<table border=\"1\" class=\"dataframe\">\n",
       "  <thead>\n",
       "    <tr style=\"text-align: right;\">\n",
       "      <th></th>\n",
       "      <th>drug_name</th>\n",
       "      <th>flag</th>\n",
       "    </tr>\n",
       "  </thead>\n",
       "  <tbody>\n",
       "    <tr>\n",
       "      <th>17</th>\n",
       "      <td>dapsone (topical)</td>\n",
       "      <td>8</td>\n",
       "    </tr>\n",
       "    <tr>\n",
       "      <th>29</th>\n",
       "      <td>bromfenac (ophthalmic)</td>\n",
       "      <td>10</td>\n",
       "    </tr>\n",
       "    <tr>\n",
       "      <th>30</th>\n",
       "      <td>cinchocaine (topical)</td>\n",
       "      <td>12</td>\n",
       "    </tr>\n",
       "    <tr>\n",
       "      <th>33</th>\n",
       "      <td>insulin human (isophane)</td>\n",
       "      <td>14</td>\n",
       "    </tr>\n",
       "    <tr>\n",
       "      <th>35</th>\n",
       "      <td>tretinoin (topical)</td>\n",
       "      <td>10</td>\n",
       "    </tr>\n",
       "  </tbody>\n",
       "</table>\n",
       "</div>"
      ],
      "text/plain": [
       "                   drug_name  flag\n",
       "17         dapsone (topical)     8\n",
       "29    bromfenac (ophthalmic)    10\n",
       "30     cinchocaine (topical)    12\n",
       "33  insulin human (isophane)    14\n",
       "35       tretinoin (topical)    10"
      ]
     },
     "execution_count": 20,
     "metadata": {},
     "output_type": "execute_result"
    }
   ],
   "source": [
    "ad.head()"
   ]
  },
  {
   "cell_type": "code",
   "execution_count": 30,
   "id": "103c6a5a-a186-4538-97cb-096133a2a96a",
   "metadata": {},
   "outputs": [],
   "source": [
    "#seperating nomenclature with '()'\n",
    "ad['drug_name'] = ad['drug_name'].str.split('(')\n",
    "ad['annotation'] = ad['drug_name'].apply(lambda x: x[1][:-1])\n",
    "ad['drug_name'] = ad['drug_name'].apply(lambda x: x[0])"
   ]
  },
  {
   "cell_type": "code",
   "execution_count": 31,
   "id": "7517efde-8c4e-4936-a5f8-b6167c80547c",
   "metadata": {},
   "outputs": [
    {
     "data": {
      "text/plain": [
       "topical                     84\n",
       "ophthalmic                  51\n",
       "nasal                       19\n",
       "liposomal                    6\n",
       "liposome                     3\n",
       "human                        3\n",
       "formaldehyde inactivated     2\n",
       "otic                         2\n",
       "recombinant                  2\n",
       "sodium                       2\n",
       "Name: annotation, dtype: int64"
      ]
     },
     "execution_count": 31,
     "metadata": {},
     "output_type": "execute_result"
    }
   ],
   "source": [
    "#list of the special annotations\n",
    "ad['annotation'].value_counts()[:10]"
   ]
  },
  {
   "cell_type": "code",
   "execution_count": null,
   "id": "45505120-16eb-489f-a904-d3b0ab4e1bc5",
   "metadata": {},
   "outputs": [],
   "source": [
    "#known DDIs with ophthalmic version of Physostigmine\n",
    "ophthalmic = known_drugs[known_drugs['drug_b'] == 'physostigmine (ophthalmic)']\n",
    "#known DDis with regular Physostigmine\n",
    "regular = known_drugs[known_drugs['drug_b'] == 'physostigmine']"
   ]
  },
  {
   "cell_type": "code",
   "execution_count": 34,
   "id": "f0b3acdb-158a-4042-b44a-62700e24b8a2",
   "metadata": {},
   "outputs": [
    {
     "data": {
      "text/plain": [
       "((49, 3), (81, 3))"
      ]
     },
     "execution_count": 34,
     "metadata": {},
     "output_type": "execute_result"
    }
   ],
   "source": [
    "#ophthalmic doesn't seem to have as many DDIs as the regular version of Physostigmine\n",
    "ophthalmic.shape, regular.shape"
   ]
  },
  {
   "cell_type": "code",
   "execution_count": 35,
   "id": "9f9c2e34-17f9-4d44-a1f3-04435d7ceb1b",
   "metadata": {},
   "outputs": [
    {
     "data": {
      "text/plain": [
       "{'ipratropium'}"
      ]
     },
     "execution_count": 35,
     "metadata": {},
     "output_type": "execute_result"
    }
   ],
   "source": [
    "#the ophthalmic version only has 1 different drug interaction to the regular\n",
    "#this means it doesn't have much of an impact to remove the ophthalmic version\n",
    "set(ophthalmic['drug_a']) - set(regular['drug_a'])"
   ]
  },
  {
   "cell_type": "code",
   "execution_count": 36,
   "id": "216c4d5d-e969-4b9d-a98c-aae40cc6d660",
   "metadata": {},
   "outputs": [
    {
     "data": {
      "text/html": [
       "<div>\n",
       "<style scoped>\n",
       "    .dataframe tbody tr th:only-of-type {\n",
       "        vertical-align: middle;\n",
       "    }\n",
       "\n",
       "    .dataframe tbody tr th {\n",
       "        vertical-align: top;\n",
       "    }\n",
       "\n",
       "    .dataframe thead th {\n",
       "        text-align: right;\n",
       "    }\n",
       "</style>\n",
       "<table border=\"1\" class=\"dataframe\">\n",
       "  <thead>\n",
       "    <tr style=\"text-align: right;\">\n",
       "      <th></th>\n",
       "      <th>drug_a</th>\n",
       "      <th>drug_b</th>\n",
       "      <th>type</th>\n",
       "    </tr>\n",
       "  </thead>\n",
       "  <tbody>\n",
       "    <tr>\n",
       "      <th>70228</th>\n",
       "      <td>hyaluronic acid</td>\n",
       "      <td>benzalkonium (topical)</td>\n",
       "      <td>dermatological</td>\n",
       "    </tr>\n",
       "  </tbody>\n",
       "</table>\n",
       "</div>"
      ],
      "text/plain": [
       "                drug_a                  drug_b            type\n",
       "70228  hyaluronic acid  benzalkonium (topical)  dermatological"
      ]
     },
     "execution_count": 36,
     "metadata": {},
     "output_type": "execute_result"
    }
   ],
   "source": [
    "#theres only 1 instance of Benzalkonium (topical)\n",
    "known_drugs[known_drugs['drug_b'].str.contains('benzalkonium')]"
   ]
  },
  {
   "cell_type": "code",
   "execution_count": 37,
   "id": "731d6644-a6fd-46be-b3f3-7f146f5e3705",
   "metadata": {},
   "outputs": [
    {
     "data": {
      "text/html": [
       "<div>\n",
       "<style scoped>\n",
       "    .dataframe tbody tr th:only-of-type {\n",
       "        vertical-align: middle;\n",
       "    }\n",
       "\n",
       "    .dataframe tbody tr th {\n",
       "        vertical-align: top;\n",
       "    }\n",
       "\n",
       "    .dataframe thead th {\n",
       "        text-align: right;\n",
       "    }\n",
       "</style>\n",
       "<table border=\"1\" class=\"dataframe\">\n",
       "  <thead>\n",
       "    <tr style=\"text-align: right;\">\n",
       "      <th></th>\n",
       "      <th>drug_a</th>\n",
       "      <th>drug_b</th>\n",
       "      <th>type</th>\n",
       "    </tr>\n",
       "  </thead>\n",
       "  <tbody>\n",
       "    <tr>\n",
       "      <th>19301</th>\n",
       "      <td>dinoprostone (topical)</td>\n",
       "      <td>misoprostol</td>\n",
       "      <td>alimentary tract and metabolism</td>\n",
       "    </tr>\n",
       "    <tr>\n",
       "      <th>46825</th>\n",
       "      <td>dinoprostone (topical)</td>\n",
       "      <td>urea</td>\n",
       "      <td>blood and blood forming organs</td>\n",
       "    </tr>\n",
       "  </tbody>\n",
       "</table>\n",
       "</div>"
      ],
      "text/plain": [
       "                       drug_a       drug_b                             type\n",
       "19301  dinoprostone (topical)  misoprostol  alimentary tract and metabolism\n",
       "46825  dinoprostone (topical)         urea   blood and blood forming organs"
      ]
     },
     "execution_count": 37,
     "metadata": {},
     "output_type": "execute_result"
    }
   ],
   "source": [
    "#there are only 2 instances of Dinoprostone (topical)\n",
    "known_drugs[known_drugs['drug_a'].str.contains('dinoprostone')]"
   ]
  },
  {
   "cell_type": "markdown",
   "id": "91041295-c00c-4ed1-8330-afccff354836",
   "metadata": {},
   "source": [
    "____\n",
    "## 2. Latent factors dataset - Chemical Structures\n",
    "\n",
    "Create a 'chem_sim' dataset that represents the chemical structures that are associated to each drug with a known positive reaction. Followed by tokenisation of these chemical structures.\n",
    "\n",
    "We will be referencing collaborative filtering methodology which relies on the assumption that similar drugs will have similar interactions with other drugs. These 'representations' of the drugs will be another aspect of their profiles. This requires latent features that are 'representations' of the same information given by the DDIs, and their respective drugs. These will be used as indications of the relationships between drugs. Examples of these derive from the profiles of these drugs that would lead to a DDI i.e. side effects, metabolic pathways, targets, and chemical structures. I've chosen chemical structures to represent the latent space, and will create a similarity score between every drug. "
   ]
  },
  {
   "cell_type": "markdown",
   "id": "6519cb35-54b8-404f-9795-fe6608233b75",
   "metadata": {},
   "source": [
    "#### Feature engineering Drug Similarities using Chemical Structures\n",
    "\n",
    "\n",
    "The chemical structure notation are written in following the Simplified Molecular Input Line Entry System (SMILES). Some rules to account for:<br>\n",
    "- All elements of the periodic table can be represented with their letters, further clarification can be made by putting the element within square brackets []\n",
    "- Bonds are represented as -,=,#,*,.\n",
    "- Entire branches are denoted within parenthesis ()\n",
    "- Carbons are annotated with with a number to indicate its position i.e. C1, C2...\n",
    "- Charged atoms are denoted with {}\n",
    "- Tetrahedral centers indicated by @\n",
    "\n"
   ]
  },
  {
   "cell_type": "markdown",
   "metadata": {},
   "source": [
    "### a. Chemical Structures\n",
    "\n",
    "Connect chemical structures to their associated drugs found in known_drugs."
   ]
  },
  {
   "cell_type": "markdown",
   "id": "852ae7c1-6b6d-49d2-b7fa-e2fb0fa70e3f",
   "metadata": {},
   "source": [
    "**i. Cleaning Structures dataset**"
   ]
  },
  {
   "cell_type": "code",
   "execution_count": 22,
   "metadata": {},
   "outputs": [],
   "source": [
    "#chemical structures of drugs\n",
    "structures = pd.read_csv('../data/drug similarities/structure_links.csv')"
   ]
  },
  {
   "cell_type": "code",
   "execution_count": 25,
   "id": "f15cee58-9b24-4048-a913-afe72201b252",
   "metadata": {},
   "outputs": [
    {
     "data": {
      "text/html": [
       "<div>\n",
       "<style scoped>\n",
       "    .dataframe tbody tr th:only-of-type {\n",
       "        vertical-align: middle;\n",
       "    }\n",
       "\n",
       "    .dataframe tbody tr th {\n",
       "        vertical-align: top;\n",
       "    }\n",
       "\n",
       "    .dataframe thead th {\n",
       "        text-align: right;\n",
       "    }\n",
       "</style>\n",
       "<table border=\"1\" class=\"dataframe\">\n",
       "  <thead>\n",
       "    <tr style=\"text-align: right;\">\n",
       "      <th></th>\n",
       "      <th>name</th>\n",
       "      <th>smiles</th>\n",
       "      <th>inchikey</th>\n",
       "      <th>inchi</th>\n",
       "      <th>formula</th>\n",
       "    </tr>\n",
       "  </thead>\n",
       "  <tbody>\n",
       "    <tr>\n",
       "      <th>0</th>\n",
       "      <td>Bivalirudin</td>\n",
       "      <td>CC[C@H](C)[C@H](NC(=O)[C@H](CCC(O)=O)NC(=O)[C@...</td>\n",
       "      <td>OIRCOABEOLEUMC-GEJPAHFPSA-N</td>\n",
       "      <td>InChI=1S/C98H138N24O33/c1-5-52(4)82(96(153)122...</td>\n",
       "      <td>C98H138N24O33</td>\n",
       "    </tr>\n",
       "    <tr>\n",
       "      <th>1</th>\n",
       "      <td>Leuprolide</td>\n",
       "      <td>CCNC(=O)[C@@H]1CCCN1C(=O)[C@H](CCCNC(N)=N)NC(=...</td>\n",
       "      <td>GFIJNRVAKGFPGQ-LIJARHBVSA-N</td>\n",
       "      <td>InChI=1S/C59H84N16O12/c1-6-63-57(86)48-14-10-2...</td>\n",
       "      <td>C59H84N16O12</td>\n",
       "    </tr>\n",
       "  </tbody>\n",
       "</table>\n",
       "</div>"
      ],
      "text/plain": [
       "          name                                             smiles  \\\n",
       "0  Bivalirudin  CC[C@H](C)[C@H](NC(=O)[C@H](CCC(O)=O)NC(=O)[C@...   \n",
       "1   Leuprolide  CCNC(=O)[C@@H]1CCCN1C(=O)[C@H](CCCNC(N)=N)NC(=...   \n",
       "\n",
       "                      inchikey  \\\n",
       "0  OIRCOABEOLEUMC-GEJPAHFPSA-N   \n",
       "1  GFIJNRVAKGFPGQ-LIJARHBVSA-N   \n",
       "\n",
       "                                               inchi        formula  \n",
       "0  InChI=1S/C98H138N24O33/c1-5-52(4)82(96(153)122...  C98H138N24O33  \n",
       "1  InChI=1S/C59H84N16O12/c1-6-63-57(86)48-14-10-2...   C59H84N16O12  "
      ]
     },
     "execution_count": 25,
     "metadata": {},
     "output_type": "execute_result"
    }
   ],
   "source": [
    "#lowercase columns\n",
    "structures.columns = structures.columns.str.lower().str.replace(' ', '_')\n",
    "structures.head(2)"
   ]
  },
  {
   "cell_type": "code",
   "execution_count": 24,
   "id": "509de590-f242-4b32-b605-5e8b4cab5231",
   "metadata": {},
   "outputs": [
    {
     "name": "stdout",
     "output_type": "stream",
     "text": [
      "<class 'pandas.core.frame.DataFrame'>\n",
      "RangeIndex: 11912 entries, 0 to 11911\n",
      "Data columns (total 5 columns):\n",
      " #   Column    Non-Null Count  Dtype \n",
      "---  ------    --------------  ----- \n",
      " 0   name      11912 non-null  object\n",
      " 1   smiles    11297 non-null  object\n",
      " 2   inchikey  11300 non-null  object\n",
      " 3   inchi     11300 non-null  object\n",
      " 4   formula   11302 non-null  object\n",
      "dtypes: object(5)\n",
      "memory usage: 465.4+ KB\n"
     ]
    }
   ],
   "source": [
    "structures.info()"
   ]
  },
  {
   "cell_type": "code",
   "execution_count": 26,
   "id": "f0fb4077-c212-407b-b41e-40b2cd67293d",
   "metadata": {},
   "outputs": [
    {
     "data": {
      "text/plain": [
       "name      0\n",
       "smiles    0\n",
       "dtype: int64"
      ]
     },
     "execution_count": 26,
     "metadata": {},
     "output_type": "execute_result"
    }
   ],
   "source": [
    "#relevant columns\n",
    "structures= structures[['name', 'smiles']]\n",
    "\n",
    "#removing null values\n",
    "structures = structures.dropna(axis = 0)\n",
    "structures.isna().sum()"
   ]
  },
  {
   "cell_type": "markdown",
   "id": "f65a7d06-b059-4248-84ca-29a929c78518",
   "metadata": {},
   "source": [
    "**ii. Merging chemical structures to the drugs found in all_drugs**<br>\n",
    "Resulting from the merge, the amount of unique drugs were reduced from 1910 to 1404. This was translated into the original known_drugs DDI dataset."
   ]
  },
  {
   "cell_type": "code",
   "execution_count": 28,
   "id": "eb054dba-58fe-4fa4-ba46-55171da272c0",
   "metadata": {},
   "outputs": [],
   "source": [
    "#preparing for merge chemical structures to the relevant drugs in all_drugs\n",
    "structures = structures.rename(columns = {'name': 'drug_name'})"
   ]
  },
  {
   "cell_type": "code",
   "execution_count": 29,
   "id": "9dcb6709-7164-421f-898b-9abb31882d3a",
   "metadata": {},
   "outputs": [
    {
     "data": {
      "text/plain": [
       "(1902, 1)"
      ]
     },
     "execution_count": 29,
     "metadata": {},
     "output_type": "execute_result"
    }
   ],
   "source": [
    "#drug_names will be lower case\n",
    "all_drugs['drug_name'] = all_drugs['drug_name'].str.lower()\n",
    "structures['drug_name'] = structures['drug_name'].str.lower()      \n",
    "all_drugs.shape"
   ]
  },
  {
   "cell_type": "code",
   "execution_count": 30,
   "id": "6d6163e9-4f81-49f1-95b6-94081928f3e4",
   "metadata": {},
   "outputs": [
    {
     "data": {
      "text/plain": [
       "(1413, 2)"
      ]
     },
     "execution_count": 30,
     "metadata": {},
     "output_type": "execute_result"
    }
   ],
   "source": [
    "chem_sim = pd.merge(all_drugs, structures, on= 'drug_name', how='inner')\n",
    "\n",
    "#the resulting merge reduced individual drugs from 1902 to 1413\n",
    "chem_sim.shape"
   ]
  },
  {
   "cell_type": "code",
   "execution_count": 31,
   "id": "2cb2c5ef-c447-4a90-adbc-dcd4f964f40b",
   "metadata": {},
   "outputs": [
    {
     "data": {
      "text/plain": [
       "1413"
      ]
     },
     "execution_count": 31,
     "metadata": {},
     "output_type": "execute_result"
    }
   ],
   "source": [
    "c = node_list(chem_sim[['drug_name']])\n",
    "len(c)"
   ]
  },
  {
   "cell_type": "markdown",
   "id": "1920b29a-ff1f-425b-a386-e9628d67420b",
   "metadata": {},
   "source": [
    "**iii. Address mismatch in unique drugs of known_drugs vs chem_sim**"
   ]
  },
  {
   "cell_type": "code",
   "execution_count": 32,
   "id": "f81eec37-80ba-4c1a-82be-cfa4d0a44551",
   "metadata": {},
   "outputs": [
    {
     "data": {
      "text/plain": [
       "489"
      ]
     },
     "execution_count": 32,
     "metadata": {},
     "output_type": "execute_result"
    }
   ],
   "source": [
    "#new list of drugs that we focus on\n",
    "all_drugs_modified = chem_sim[['drug_name']]\n",
    "\n",
    "#list of all of the drugs where we don't have chemical structure data on\n",
    "dropped = list(set(all_drugs['drug_name']) - set(all_drugs_modified['drug_name']))\n",
    "len(dropped)"
   ]
  },
  {
   "cell_type": "code",
   "execution_count": 34,
   "id": "fd2a2f4b-8ded-4110-b5fc-10e6150599f4",
   "metadata": {},
   "outputs": [
    {
     "data": {
      "text/plain": [
       "['trastuzumab',\n",
       " 'abaloparatide',\n",
       " 'dextran (low molecular weight)',\n",
       " 'mumps virus strain b level jeryl lynn live antigen',\n",
       " 'ephedrine (nasal)']"
      ]
     },
     "execution_count": 34,
     "metadata": {},
     "output_type": "execute_result"
    }
   ],
   "source": [
    "dropped[:5]"
   ]
  },
  {
   "cell_type": "code",
   "execution_count": 35,
   "id": "8fd43f35-e735-4632-b672-9acabc087868",
   "metadata": {},
   "outputs": [
    {
     "data": {
      "text/plain": [
       "(130422, 3)"
      ]
     },
     "execution_count": 35,
     "metadata": {},
     "output_type": "execute_result"
    }
   ],
   "source": [
    "#dropping all interactions that have drugs that don't appear in new drug list\n",
    "known_drugs.shape"
   ]
  },
  {
   "cell_type": "code",
   "execution_count": 53,
   "id": "cb83406a-7fa6-4320-93a9-e4bcd6c5bd35",
   "metadata": {},
   "outputs": [],
   "source": [
    "all_drugs_modified = list(chem_sim['drug_name'])\n",
    "\n",
    "#modified dataset of known DDIs excluding the drugs that were dropped\n",
    "known_drugs_modified = known_drugs.copy()\n",
    "known_drugs_modified = known_drugs_modified[known_drugs_modified['drug_a'].isin(all_drugs_modified)]\n",
    "known_drugs_modified = known_drugs_modified[known_drugs_modified['drug_b'].isin(all_drugs_modified)]"
   ]
  },
  {
   "cell_type": "code",
   "execution_count": 55,
   "id": "8933b1d3-9f08-4852-bcd8-e66572deac7a",
   "metadata": {},
   "outputs": [
    {
     "data": {
      "text/plain": [
       "(89008, 3)"
      ]
     },
     "execution_count": 55,
     "metadata": {},
     "output_type": "execute_result"
    }
   ],
   "source": [
    "#still have 89008 DDIs\n",
    "known_drugs_modified.shape"
   ]
  },
  {
   "cell_type": "markdown",
   "id": "99709953-13c9-4bf8-a0ff-bf9083ded81c",
   "metadata": {},
   "source": [
    "**iv. address the further reduction from exception interactions**<br>\n",
    "Some interactions that were dropped held unique drugs that only had 1 interaction, resulting in the loss of that unique drug. "
   ]
  },
  {
   "cell_type": "code",
   "execution_count": 56,
   "id": "1c07b8ad-64fa-4bef-bf75-e74587f2c97c",
   "metadata": {},
   "outputs": [
    {
     "data": {
      "text/plain": [
       "1413"
      ]
     },
     "execution_count": 56,
     "metadata": {},
     "output_type": "execute_result"
    }
   ],
   "source": [
    "len(all_drugs_modified)"
   ]
  },
  {
   "cell_type": "code",
   "execution_count": 57,
   "id": "e5015504-8f34-40c2-83dc-030a0e1640cb",
   "metadata": {},
   "outputs": [
    {
     "data": {
      "text/plain": [
       "1404"
      ]
     },
     "execution_count": 57,
     "metadata": {},
     "output_type": "execute_result"
    }
   ],
   "source": [
    "#the filtering has further reduced the number of unique drugs. why?\n",
    "after_culling = node_list(known_drugs_modified[['drug_a', 'drug_b']])\n",
    "len(after_culling)"
   ]
  },
  {
   "cell_type": "code",
   "execution_count": 58,
   "id": "99363b9c-7bb0-48b3-9847-14f0bc69d168",
   "metadata": {},
   "outputs": [
    {
     "data": {
      "text/plain": [
       "{'cromoglicic acid',\n",
       " 'etidocaine',\n",
       " 'hyaluronic acid',\n",
       " 'mepivacaine',\n",
       " 'migalastat',\n",
       " 'miglustat',\n",
       " 'nedocromil',\n",
       " 'pyrophosphoric acid',\n",
       " 'zanamivir'}"
      ]
     },
     "execution_count": 58,
     "metadata": {},
     "output_type": "execute_result"
    }
   ],
   "source": [
    "all_drugs = node_list(known_drugs_modified[['drug_a', 'drug_b']])\n",
    "set(c) - set(all_drugs)"
   ]
  },
  {
   "cell_type": "code",
   "execution_count": 59,
   "id": "e4323823-da15-430e-8efe-f7188b5b3911",
   "metadata": {},
   "outputs": [
    {
     "data": {
      "text/html": [
       "<div>\n",
       "<style scoped>\n",
       "    .dataframe tbody tr th:only-of-type {\n",
       "        vertical-align: middle;\n",
       "    }\n",
       "\n",
       "    .dataframe tbody tr th {\n",
       "        vertical-align: top;\n",
       "    }\n",
       "\n",
       "    .dataframe thead th {\n",
       "        text-align: right;\n",
       "    }\n",
       "</style>\n",
       "<table border=\"1\" class=\"dataframe\">\n",
       "  <thead>\n",
       "    <tr style=\"text-align: right;\">\n",
       "      <th></th>\n",
       "      <th>drug_a</th>\n",
       "      <th>drug_b</th>\n",
       "      <th>type</th>\n",
       "    </tr>\n",
       "  </thead>\n",
       "  <tbody>\n",
       "    <tr>\n",
       "      <th>17634</th>\n",
       "      <td>insulin human (inhalation, rapid acting)</td>\n",
       "      <td>cromoglicic acid</td>\n",
       "      <td>alimentary tract and metabolism</td>\n",
       "    </tr>\n",
       "  </tbody>\n",
       "</table>\n",
       "</div>"
      ],
      "text/plain": [
       "                                         drug_a            drug_b  \\\n",
       "17634  insulin human (inhalation, rapid acting)  cromoglicic acid   \n",
       "\n",
       "                                  type  \n",
       "17634  alimentary tract and metabolism  "
      ]
     },
     "execution_count": 59,
     "metadata": {},
     "output_type": "execute_result"
    }
   ],
   "source": [
    "#reason for reduced unique drugs is that the drugs in the above list are solely involved with a drug that was removed\n",
    "#this deems them unimportant\n",
    "known_drugs[known_drugs['drug_b'] == 'cromoglicic acid']"
   ]
  },
  {
   "cell_type": "code",
   "execution_count": 60,
   "id": "e626d14f-5819-4d60-831b-fb8db49dc126",
   "metadata": {},
   "outputs": [],
   "source": [
    "#DDIs with 1404 unique drugs\n",
    "known_drugs= known_drugs_modified\n",
    "all_drugs = pd.DataFrame(all_drugs, columns = ['drug_name'])"
   ]
  },
  {
   "cell_type": "markdown",
   "id": "8d3e792e-f531-4a0a-b94b-42e9cdbbf5a4",
   "metadata": {},
   "source": [
    "**v. one more time**"
   ]
  },
  {
   "cell_type": "code",
   "execution_count": 61,
   "id": "d1050f1f-4b12-4892-bc02-dd0cc48c46ee",
   "metadata": {},
   "outputs": [],
   "source": [
    "#further aligning of chem_sim drug portfolio to the modified known_drugs drug portfolio\n",
    "chem_sim = chem_sim[chem_sim['drug_name'].isin(list(all_drugs['drug_name']))]"
   ]
  },
  {
   "cell_type": "markdown",
   "id": "1318ef2f-260c-4127-b5f8-be999f080c43",
   "metadata": {},
   "source": [
    "### b. Tokenisation of SMILES"
   ]
  },
  {
   "cell_type": "markdown",
   "id": "be63de8c-b648-421f-b1b7-9744d4310e3d",
   "metadata": {},
   "source": [
    "**Seperating the chemical structure of the drugs whilst retaining relevant characteristics in notation**<br>\n",
    "The SMILES notation needs to be tokenised appropriately in to account for substructures expressed in the notation. There are already many different tokenisers available online for this task. Instead of the basic versions of SMILES tokenisers, I've decided to use one that has been pre-trained from ChEMBL data (another database that uses the same SMILES notation) from SmilesPE."
   ]
  },
  {
   "cell_type": "markdown",
   "id": "8d39f8d8-1c7b-4d7a-9223-6de95aaa3669",
   "metadata": {},
   "source": [
    "**i. Applying pre-trained SMILES tokenizer: SmilesPE**"
   ]
  },
  {
   "cell_type": "code",
   "execution_count": 37,
   "id": "5d128a95-d61a-42e9-96c2-92bbb56beaaa",
   "metadata": {},
   "outputs": [],
   "source": [
    "#opening vocab list\n",
    "spe_vocab = codecs.open('../resources/SPE_ChEMBL.txt')\n",
    "#initialising tokenizer\n",
    "spe = SPE_Tokenizer(spe_vocab)"
   ]
  },
  {
   "cell_type": "code",
   "execution_count": 38,
   "id": "7b275148-792f-444d-b6b0-13cc622fa750",
   "metadata": {},
   "outputs": [],
   "source": [
    "c = chem_sim.copy()\n",
    "#applying tokenization to smiles and appending to tokens list\n",
    "tokens = []\n",
    "for x in c['smiles']:\n",
    "    tokens.append(spe.tokenize(x))"
   ]
  },
  {
   "cell_type": "code",
   "execution_count": 39,
   "id": "8a5cde81-6c7d-4d75-8722-7b634cbfcded",
   "metadata": {},
   "outputs": [],
   "source": [
    "#adding tokens to new column, splitting spaces so that each entry is a list of tokens\n",
    "chem_sim['tokens'] = tokens\n",
    "chem_sim['tokens'] = chem_sim['tokens'].map(lambda x: x.split(' '))"
   ]
  },
  {
   "cell_type": "code",
   "execution_count": 40,
   "id": "fe1f2516-33e5-4947-ab00-a49783237b98",
   "metadata": {},
   "outputs": [
    {
     "data": {
      "text/html": [
       "<div>\n",
       "<style scoped>\n",
       "    .dataframe tbody tr th:only-of-type {\n",
       "        vertical-align: middle;\n",
       "    }\n",
       "\n",
       "    .dataframe tbody tr th {\n",
       "        vertical-align: top;\n",
       "    }\n",
       "\n",
       "    .dataframe thead th {\n",
       "        text-align: right;\n",
       "    }\n",
       "</style>\n",
       "<table border=\"1\" class=\"dataframe\">\n",
       "  <thead>\n",
       "    <tr style=\"text-align: right;\">\n",
       "      <th></th>\n",
       "      <th>drug_name</th>\n",
       "      <th>smiles</th>\n",
       "      <th>tokens</th>\n",
       "    </tr>\n",
       "  </thead>\n",
       "  <tbody>\n",
       "    <tr>\n",
       "      <th>0</th>\n",
       "      <td>indacaterol</td>\n",
       "      <td>CCC1=C(CC)C=C2CC(CC2=C1)NC[C@H](O)C1=C2C=CC(=O...</td>\n",
       "      <td>[CCC1, =C(, CC), C=C2, CC(, CC2, =, C1), NC, [...</td>\n",
       "    </tr>\n",
       "    <tr>\n",
       "      <th>1</th>\n",
       "      <td>cefiderocol</td>\n",
       "      <td>[H][C@]12SCC(C[N+]3(CCNC(=O)C4=C(Cl)C(O)=C(O)C...</td>\n",
       "      <td>[[H], [C@]12, S, CC(, C, [N+], 3, (, CCNC(=O),...</td>\n",
       "    </tr>\n",
       "    <tr>\n",
       "      <th>2</th>\n",
       "      <td>romidepsin</td>\n",
       "      <td>C\\C=C1/NC(=O)[C@H]2CSSCC\\C=C\\[C@H](CC(=O)N[C@H...</td>\n",
       "      <td>[C, \\, C=C1, /, NC(=O), [C@H]2, CS, S, CC, \\, ...</td>\n",
       "    </tr>\n",
       "    <tr>\n",
       "      <th>3</th>\n",
       "      <td>irbesartan</td>\n",
       "      <td>CCCCC1=NC2(CCCC2)C(=O)N1CC1=CC=C(C=C1)C1=CC=CC...</td>\n",
       "      <td>[CCCCC1, =N, C2(, CCCC2), C(=O)N1, CC1=, CC, =...</td>\n",
       "    </tr>\n",
       "    <tr>\n",
       "      <th>4</th>\n",
       "      <td>sitagliptin</td>\n",
       "      <td>N[C@@H](CC(=O)N1CCN2C(C1)=NN=C2C(F)(F)F)CC1=CC...</td>\n",
       "      <td>[N[C@@H](, CC(=O)N1, CCN2, C(, C1), =N, N=C2, ...</td>\n",
       "    </tr>\n",
       "  </tbody>\n",
       "</table>\n",
       "</div>"
      ],
      "text/plain": [
       "     drug_name                                             smiles  \\\n",
       "0  indacaterol  CCC1=C(CC)C=C2CC(CC2=C1)NC[C@H](O)C1=C2C=CC(=O...   \n",
       "1  cefiderocol  [H][C@]12SCC(C[N+]3(CCNC(=O)C4=C(Cl)C(O)=C(O)C...   \n",
       "2   romidepsin  C\\C=C1/NC(=O)[C@H]2CSSCC\\C=C\\[C@H](CC(=O)N[C@H...   \n",
       "3   irbesartan  CCCCC1=NC2(CCCC2)C(=O)N1CC1=CC=C(C=C1)C1=CC=CC...   \n",
       "4  sitagliptin  N[C@@H](CC(=O)N1CCN2C(C1)=NN=C2C(F)(F)F)CC1=CC...   \n",
       "\n",
       "                                              tokens  \n",
       "0  [CCC1, =C(, CC), C=C2, CC(, CC2, =, C1), NC, [...  \n",
       "1  [[H], [C@]12, S, CC(, C, [N+], 3, (, CCNC(=O),...  \n",
       "2  [C, \\, C=C1, /, NC(=O), [C@H]2, CS, S, CC, \\, ...  \n",
       "3  [CCCCC1, =N, C2(, CCCC2), C(=O)N1, CC1=, CC, =...  \n",
       "4  [N[C@@H](, CC(=O)N1, CCN2, C(, C1), =N, N=C2, ...  "
      ]
     },
     "execution_count": 40,
     "metadata": {},
     "output_type": "execute_result"
    }
   ],
   "source": [
    "#the tokenization has been successful in keeping characteristics of each element in the chemical structure\n",
    "chem_sim.head()"
   ]
  },
  {
   "cell_type": "code",
   "execution_count": 41,
   "id": "35a9196c-fcae-4fb5-88d2-5677e9614f5b",
   "metadata": {},
   "outputs": [],
   "source": [
    "#saving this version of chem_sim for eda later on\n",
    "chem_sim.to_csv('../data/cleaned data/chem_sim_eda.csv', index = False)"
   ]
  },
  {
   "cell_type": "code",
   "execution_count": 42,
   "id": "763339d0-1344-4a16-89a1-4fca61519f80",
   "metadata": {},
   "outputs": [],
   "source": [
    "chem_sim = chem_sim.drop(columns = ['smiles'])"
   ]
  },
  {
   "cell_type": "markdown",
   "id": "a67a7b40-0c07-4862-b8dd-942a11d35f90",
   "metadata": {},
   "source": [
    "**ii. Label encoding tokens. (Pre-processing for modeling)**<br>"
   ]
  },
  {
   "cell_type": "code",
   "execution_count": 43,
   "id": "f739b6a9-3b9a-4b40-8035-0ea72880ff14",
   "metadata": {},
   "outputs": [],
   "source": [
    "labelencoder = LabelEncoder()"
   ]
  },
  {
   "cell_type": "code",
   "execution_count": 44,
   "id": "904bbfd9-4101-40a4-b302-c5f528210eba",
   "metadata": {},
   "outputs": [],
   "source": [
    "#exploding tokens column to then label them into numerical data\n",
    "encode = chem_sim[['tokens']]\n",
    "encode = encode.explode('tokens')\n",
    "#label encoding\n",
    "encode['labels'] = labelencoder.fit_transform(encode['tokens'])\n",
    "encode = encode.reset_index()\n",
    "#groupby the index and aggregate to a list. output are the label encoded features in 1 list\n",
    "encode = encode.groupby('index').agg(list)\n",
    "chem_sim['labels'] = encode['labels']"
   ]
  },
  {
   "cell_type": "code",
   "execution_count": 45,
   "id": "07be3422-c8f2-469d-9188-f41f4e7dfad6",
   "metadata": {},
   "outputs": [
    {
     "data": {
      "text/html": [
       "<div>\n",
       "<style scoped>\n",
       "    .dataframe tbody tr th:only-of-type {\n",
       "        vertical-align: middle;\n",
       "    }\n",
       "\n",
       "    .dataframe tbody tr th {\n",
       "        vertical-align: top;\n",
       "    }\n",
       "\n",
       "    .dataframe thead th {\n",
       "        text-align: right;\n",
       "    }\n",
       "</style>\n",
       "<table border=\"1\" class=\"dataframe\">\n",
       "  <thead>\n",
       "    <tr style=\"text-align: right;\">\n",
       "      <th></th>\n",
       "      <th>drug_name</th>\n",
       "      <th>tokens</th>\n",
       "      <th>labels</th>\n",
       "    </tr>\n",
       "  </thead>\n",
       "  <tbody>\n",
       "    <tr>\n",
       "      <th>0</th>\n",
       "      <td>indacaterol</td>\n",
       "      <td>[CCC1, =C(, CC), C=C2, CC(, CC2, =, C1), NC, [...</td>\n",
       "      <td>[407, 94, 364, 317, 327, 377, 92, 253, 645, 85...</td>\n",
       "    </tr>\n",
       "    <tr>\n",
       "      <th>1</th>\n",
       "      <td>cefiderocol</td>\n",
       "      <td>[[H], [C@]12, S, CC(, C, [N+], 3, (, CCNC(=O),...</td>\n",
       "      <td>[920, 891, 745, 327, 134, 926, 77, 31, 488, 30...</td>\n",
       "    </tr>\n",
       "    <tr>\n",
       "      <th>2</th>\n",
       "      <td>romidepsin</td>\n",
       "      <td>[C, \\, C=C1, /, NC(=O), [C@H]2, CS, S, CC, \\, ...</td>\n",
       "      <td>[134, 960, 316, 61, 649, 873, 561, 745, 324, 9...</td>\n",
       "    </tr>\n",
       "    <tr>\n",
       "      <th>3</th>\n",
       "      <td>irbesartan</td>\n",
       "      <td>[CCCCC1, =N, C2(, CCCC2), C(=O)N1, CC1=, CC, =...</td>\n",
       "      <td>[431, 113, 282, 425, 157, 371, 324, 94, 311, 2...</td>\n",
       "    </tr>\n",
       "    <tr>\n",
       "      <th>4</th>\n",
       "      <td>sitagliptin</td>\n",
       "      <td>[N[C@@H](, CC(=O)N1, CCN2, C(, C1), =N, N=C2, ...</td>\n",
       "      <td>[670, 331, 485, 139, 253, 113, 644, 219, 371, ...</td>\n",
       "    </tr>\n",
       "  </tbody>\n",
       "</table>\n",
       "</div>"
      ],
      "text/plain": [
       "     drug_name                                             tokens  \\\n",
       "0  indacaterol  [CCC1, =C(, CC), C=C2, CC(, CC2, =, C1), NC, [...   \n",
       "1  cefiderocol  [[H], [C@]12, S, CC(, C, [N+], 3, (, CCNC(=O),...   \n",
       "2   romidepsin  [C, \\, C=C1, /, NC(=O), [C@H]2, CS, S, CC, \\, ...   \n",
       "3   irbesartan  [CCCCC1, =N, C2(, CCCC2), C(=O)N1, CC1=, CC, =...   \n",
       "4  sitagliptin  [N[C@@H](, CC(=O)N1, CCN2, C(, C1), =N, N=C2, ...   \n",
       "\n",
       "                                              labels  \n",
       "0  [407, 94, 364, 317, 327, 377, 92, 253, 645, 85...  \n",
       "1  [920, 891, 745, 327, 134, 926, 77, 31, 488, 30...  \n",
       "2  [134, 960, 316, 61, 649, 873, 561, 745, 324, 9...  \n",
       "3  [431, 113, 282, 425, 157, 371, 324, 94, 311, 2...  \n",
       "4  [670, 331, 485, 139, 253, 113, 644, 219, 371, ...  "
      ]
     },
     "execution_count": 45,
     "metadata": {},
     "output_type": "execute_result"
    }
   ],
   "source": [
    "chem_sim.head()"
   ]
  },
  {
   "cell_type": "code",
   "execution_count": 71,
   "id": "c2bf2da8-88f4-427c-a667-2706990ce004",
   "metadata": {},
   "outputs": [],
   "source": [
    "chem_sim.to_csv('../data/cleaned data/chem_sim_vectors.csv', index = False)"
   ]
  },
  {
   "cell_type": "markdown",
   "id": "a039a910-72f5-47f2-a698-c9fd433d9b28",
   "metadata": {},
   "source": [
    "### c. Creating nodes representing positive known DDIs\n",
    "\n",
    "Each drug will be assigned a unique numerical ID. They will then represent nodes in a graph."
   ]
  },
  {
   "cell_type": "code",
   "execution_count": 46,
   "id": "976ab7b6-8146-42f3-a316-c4cdead28612",
   "metadata": {},
   "outputs": [
    {
     "data": {
      "text/plain": [
       "1910"
      ]
     },
     "execution_count": 46,
     "metadata": {},
     "output_type": "execute_result"
    }
   ],
   "source": [
    "known_list = node_list(known_drugs)\n",
    "len(known_list)"
   ]
  },
  {
   "cell_type": "code",
   "execution_count": 74,
   "id": "631c5841-4398-4e56-bb1c-c06dfc0dae06",
   "metadata": {},
   "outputs": [],
   "source": [
    "#saving version of known_drugs with the names and types before converting into numerical nodes\n",
    "known_drugs.to_csv('../data/cleaned data/known_drugs_names.csv', index = False)"
   ]
  },
  {
   "cell_type": "code",
   "execution_count": 47,
   "id": "dcdfcbbc-c1fc-42d4-b39f-5a9fed3ba701",
   "metadata": {},
   "outputs": [
    {
     "data": {
      "text/html": [
       "<div>\n",
       "<style scoped>\n",
       "    .dataframe tbody tr th:only-of-type {\n",
       "        vertical-align: middle;\n",
       "    }\n",
       "\n",
       "    .dataframe tbody tr th {\n",
       "        vertical-align: top;\n",
       "    }\n",
       "\n",
       "    .dataframe thead th {\n",
       "        text-align: right;\n",
       "    }\n",
       "</style>\n",
       "<table border=\"1\" class=\"dataframe\">\n",
       "  <thead>\n",
       "    <tr style=\"text-align: right;\">\n",
       "      <th></th>\n",
       "      <th>drug_a</th>\n",
       "      <th>drug_b</th>\n",
       "      <th>druga_id</th>\n",
       "      <th>drugb_id</th>\n",
       "    </tr>\n",
       "  </thead>\n",
       "  <tbody>\n",
       "    <tr>\n",
       "      <th>0</th>\n",
       "      <td>abacavir</td>\n",
       "      <td>peginterferon beta-1a</td>\n",
       "      <td>0</td>\n",
       "      <td>1356</td>\n",
       "    </tr>\n",
       "    <tr>\n",
       "      <th>1</th>\n",
       "      <td>abacavir</td>\n",
       "      <td>orlistat</td>\n",
       "      <td>0</td>\n",
       "      <td>1296</td>\n",
       "    </tr>\n",
       "    <tr>\n",
       "      <th>2</th>\n",
       "      <td>abacavir</td>\n",
       "      <td>trabectedin</td>\n",
       "      <td>0</td>\n",
       "      <td>1775</td>\n",
       "    </tr>\n",
       "    <tr>\n",
       "      <th>3</th>\n",
       "      <td>abacavir</td>\n",
       "      <td>teriflunomide</td>\n",
       "      <td>0</td>\n",
       "      <td>1708</td>\n",
       "    </tr>\n",
       "    <tr>\n",
       "      <th>4</th>\n",
       "      <td>abacavir</td>\n",
       "      <td>leflunomide</td>\n",
       "      <td>0</td>\n",
       "      <td>988</td>\n",
       "    </tr>\n",
       "  </tbody>\n",
       "</table>\n",
       "</div>"
      ],
      "text/plain": [
       "     drug_a                 drug_b  druga_id  drugb_id\n",
       "0  abacavir  peginterferon beta-1a         0      1356\n",
       "1  abacavir               orlistat         0      1296\n",
       "2  abacavir            trabectedin         0      1775\n",
       "3  abacavir          teriflunomide         0      1708\n",
       "4  abacavir            leflunomide         0       988"
      ]
     },
     "execution_count": 47,
     "metadata": {},
     "output_type": "execute_result"
    }
   ],
   "source": [
    "#applying numerical IDs for each drug that represent nodes\n",
    "known_drugs= known_drugs[['drug_a', 'drug_b']]\n",
    "nodes = known_drugs\n",
    "nodes = nodes.stack().rank(method='dense').astype(int).unstack()\n",
    "\n",
    "#making nodes start from 0\n",
    "nodes  = nodes.apply(lambda x: x-1)\n",
    "nodes = nodes.rename(columns = {'drug_a': 'druga_id', 'drug_b': 'drugb_id'})\n",
    "known_drugs = pd.concat([known_drugs, nodes], axis = 1)\n",
    "known_drugs = known_drugs.sort_values(by = 'druga_id', ascending = True).reset_index(drop = True)\n",
    "known_drugs.head()"
   ]
  },
  {
   "cell_type": "markdown",
   "id": "c53b184a-6094-446a-af0c-4463d2516c68",
   "metadata": {},
   "source": [
    "**i. Drug_id lookup**\n",
    "\n",
    "A list of all drugs (nodes) with their associated ID."
   ]
  },
  {
   "cell_type": "code",
   "execution_count": 49,
   "id": "956f28c2-4f20-4d68-8da8-0d46201e3bf9",
   "metadata": {},
   "outputs": [],
   "source": [
    "#list of all unique drugs in each row of drug_a and drug_b\n",
    "druga_lookup = known_drugs[['druga_id', 'drug_a']].drop_duplicates(subset = 'drug_a').reset_index(drop = True)\n",
    "drugb_lookup = known_drugs[['drugb_id', 'drug_b']].drop_duplicates(subset = 'drug_b').reset_index(drop = True)"
   ]
  },
  {
   "cell_type": "code",
   "execution_count": 50,
   "id": "99643784-f802-4bcc-a5c7-aaa20826087d",
   "metadata": {},
   "outputs": [
    {
     "data": {
      "text/plain": [
       "((1735, 2), (1812, 2))"
      ]
     },
     "execution_count": 50,
     "metadata": {},
     "output_type": "execute_result"
    }
   ],
   "source": [
    "#drug b has more individual IDs \n",
    "druga_lookup.shape, drugb_lookup.shape"
   ]
  },
  {
   "cell_type": "code",
   "execution_count": 51,
   "id": "bdbfb2a6-2bbd-4aa2-a8ec-c023682727c5",
   "metadata": {},
   "outputs": [
    {
     "data": {
      "text/html": [
       "<div>\n",
       "<style scoped>\n",
       "    .dataframe tbody tr th:only-of-type {\n",
       "        vertical-align: middle;\n",
       "    }\n",
       "\n",
       "    .dataframe tbody tr th {\n",
       "        vertical-align: top;\n",
       "    }\n",
       "\n",
       "    .dataframe thead th {\n",
       "        text-align: right;\n",
       "    }\n",
       "</style>\n",
       "<table border=\"1\" class=\"dataframe\">\n",
       "  <thead>\n",
       "    <tr style=\"text-align: right;\">\n",
       "      <th></th>\n",
       "      <th>druga_id</th>\n",
       "      <th>drug_a</th>\n",
       "    </tr>\n",
       "  </thead>\n",
       "  <tbody>\n",
       "    <tr>\n",
       "      <th>0</th>\n",
       "      <td>0</td>\n",
       "      <td>abacavir</td>\n",
       "    </tr>\n",
       "    <tr>\n",
       "      <th>1</th>\n",
       "      <td>2</td>\n",
       "      <td>abametapir (topical)</td>\n",
       "    </tr>\n",
       "    <tr>\n",
       "      <th>2</th>\n",
       "      <td>3</td>\n",
       "      <td>abarelix</td>\n",
       "    </tr>\n",
       "    <tr>\n",
       "      <th>3</th>\n",
       "      <td>4</td>\n",
       "      <td>abatacept</td>\n",
       "    </tr>\n",
       "    <tr>\n",
       "      <th>4</th>\n",
       "      <td>5</td>\n",
       "      <td>abciximab</td>\n",
       "    </tr>\n",
       "  </tbody>\n",
       "</table>\n",
       "</div>"
      ],
      "text/plain": [
       "   druga_id                drug_a\n",
       "0         0              abacavir\n",
       "1         2  abametapir (topical)\n",
       "2         3              abarelix\n",
       "3         4             abatacept\n",
       "4         5             abciximab"
      ]
     },
     "execution_count": 51,
     "metadata": {},
     "output_type": "execute_result"
    }
   ],
   "source": [
    "druga_lookup.head()"
   ]
  },
  {
   "cell_type": "code",
   "execution_count": 52,
   "id": "a932d72f-f194-427b-9924-e68ad175f6f6",
   "metadata": {},
   "outputs": [
    {
     "data": {
      "text/html": [
       "<div>\n",
       "<style scoped>\n",
       "    .dataframe tbody tr th:only-of-type {\n",
       "        vertical-align: middle;\n",
       "    }\n",
       "\n",
       "    .dataframe tbody tr th {\n",
       "        vertical-align: top;\n",
       "    }\n",
       "\n",
       "    .dataframe thead th {\n",
       "        text-align: right;\n",
       "    }\n",
       "</style>\n",
       "<table border=\"1\" class=\"dataframe\">\n",
       "  <thead>\n",
       "    <tr style=\"text-align: right;\">\n",
       "      <th></th>\n",
       "      <th>drugb_id</th>\n",
       "      <th>drug_b</th>\n",
       "    </tr>\n",
       "  </thead>\n",
       "  <tbody>\n",
       "    <tr>\n",
       "      <th>1411</th>\n",
       "      <td>0</td>\n",
       "      <td>abacavir</td>\n",
       "    </tr>\n",
       "    <tr>\n",
       "      <th>1554</th>\n",
       "      <td>1</td>\n",
       "      <td>abaloparatide</td>\n",
       "    </tr>\n",
       "    <tr>\n",
       "      <th>390</th>\n",
       "      <td>2</td>\n",
       "      <td>abametapir (topical)</td>\n",
       "    </tr>\n",
       "    <tr>\n",
       "      <th>1565</th>\n",
       "      <td>3</td>\n",
       "      <td>abarelix</td>\n",
       "    </tr>\n",
       "    <tr>\n",
       "      <th>900</th>\n",
       "      <td>4</td>\n",
       "      <td>abatacept</td>\n",
       "    </tr>\n",
       "  </tbody>\n",
       "</table>\n",
       "</div>"
      ],
      "text/plain": [
       "      drugb_id                drug_b\n",
       "1411         0              abacavir\n",
       "1554         1         abaloparatide\n",
       "390          2  abametapir (topical)\n",
       "1565         3              abarelix\n",
       "900          4             abatacept"
      ]
     },
     "execution_count": 52,
     "metadata": {},
     "output_type": "execute_result"
    }
   ],
   "source": [
    "#cross checking that the assigned nodes are the same for both columns\n",
    "drugb_lookup = drugb_lookup.sort_values(by = 'drugb_id', ascending = True)\n",
    "drugb_lookup.head()"
   ]
  },
  {
   "cell_type": "code",
   "execution_count": 57,
   "id": "8020909a-06e7-4591-9839-9a5ceef3334d",
   "metadata": {},
   "outputs": [
    {
     "data": {
      "text/html": [
       "<div>\n",
       "<style scoped>\n",
       "    .dataframe tbody tr th:only-of-type {\n",
       "        vertical-align: middle;\n",
       "    }\n",
       "\n",
       "    .dataframe tbody tr th {\n",
       "        vertical-align: top;\n",
       "    }\n",
       "\n",
       "    .dataframe thead th {\n",
       "        text-align: right;\n",
       "    }\n",
       "</style>\n",
       "<table border=\"1\" class=\"dataframe\">\n",
       "  <thead>\n",
       "    <tr style=\"text-align: right;\">\n",
       "      <th></th>\n",
       "      <th>druga_id</th>\n",
       "      <th>drug_name</th>\n",
       "    </tr>\n",
       "  </thead>\n",
       "  <tbody>\n",
       "    <tr>\n",
       "      <th>0</th>\n",
       "      <td>0</td>\n",
       "      <td>abacavir</td>\n",
       "    </tr>\n",
       "    <tr>\n",
       "      <th>1</th>\n",
       "      <td>1</td>\n",
       "      <td>abaloparatide</td>\n",
       "    </tr>\n",
       "    <tr>\n",
       "      <th>2</th>\n",
       "      <td>2</td>\n",
       "      <td>abametapir (topical)</td>\n",
       "    </tr>\n",
       "    <tr>\n",
       "      <th>3</th>\n",
       "      <td>3</td>\n",
       "      <td>abarelix</td>\n",
       "    </tr>\n",
       "    <tr>\n",
       "      <th>4</th>\n",
       "      <td>4</td>\n",
       "      <td>abatacept</td>\n",
       "    </tr>\n",
       "  </tbody>\n",
       "</table>\n",
       "</div>"
      ],
      "text/plain": [
       "   druga_id             drug_name\n",
       "0         0              abacavir\n",
       "1         1         abaloparatide\n",
       "2         2  abametapir (topical)\n",
       "3         3              abarelix\n",
       "4         4             abatacept"
      ]
     },
     "execution_count": 57,
     "metadata": {},
     "output_type": "execute_result"
    }
   ],
   "source": [
    "#merging the drug_a and drug_b lookups since drug_b has other unique drugs\n",
    "drugb_lookup = drugb_lookup.rename(columns = {'drugb_id': 'druga_id'})\n",
    "all_drugs_lookup = pd.merge(drugb_lookup, druga_lookup, on = 'druga_id', how = 'outer')\n",
    "all_drugs_lookup['drug_b'] = all_drugs_lookup['drug_b'].fillna(all_drugs_lookup['drug_a'])\n",
    "all_drugs_lookup = all_drugs_lookup.drop(columns = ['drug_a'])\n",
    "all_drugs_lookup = all_drugs_lookup.rename(columns = {'drug_b': \n",
    "                                                     'drug_name'})\n",
    "#complete list of the drugs and their associated nodes\n",
    "all_drugs_lookup = all_drugs_lookup.sort_values(by = 'druga_id', ascending = True).reset_index(drop = True)\n",
    "all_drugs_lookup.head()"
   ]
  },
  {
   "cell_type": "markdown",
   "metadata": {},
   "source": [
    "**ii. DDIs represented as nodes**"
   ]
  },
  {
   "cell_type": "code",
   "execution_count": 90,
   "id": "26feeac0-e6d4-472c-bf21-d547c62aec9f",
   "metadata": {},
   "outputs": [
    {
     "data": {
      "text/html": [
       "<div>\n",
       "<style scoped>\n",
       "    .dataframe tbody tr th:only-of-type {\n",
       "        vertical-align: middle;\n",
       "    }\n",
       "\n",
       "    .dataframe tbody tr th {\n",
       "        vertical-align: top;\n",
       "    }\n",
       "\n",
       "    .dataframe thead th {\n",
       "        text-align: right;\n",
       "    }\n",
       "</style>\n",
       "<table border=\"1\" class=\"dataframe\">\n",
       "  <thead>\n",
       "    <tr style=\"text-align: right;\">\n",
       "      <th></th>\n",
       "      <th>druga_id</th>\n",
       "      <th>drugb_id</th>\n",
       "    </tr>\n",
       "  </thead>\n",
       "  <tbody>\n",
       "    <tr>\n",
       "      <th>0</th>\n",
       "      <td>0</td>\n",
       "      <td>174</td>\n",
       "    </tr>\n",
       "    <tr>\n",
       "      <th>1</th>\n",
       "      <td>0</td>\n",
       "      <td>945</td>\n",
       "    </tr>\n",
       "    <tr>\n",
       "      <th>2</th>\n",
       "      <td>0</td>\n",
       "      <td>295</td>\n",
       "    </tr>\n",
       "    <tr>\n",
       "      <th>3</th>\n",
       "      <td>0</td>\n",
       "      <td>1305</td>\n",
       "    </tr>\n",
       "    <tr>\n",
       "      <th>4</th>\n",
       "      <td>0</td>\n",
       "      <td>1257</td>\n",
       "    </tr>\n",
       "  </tbody>\n",
       "</table>\n",
       "</div>"
      ],
      "text/plain": [
       "   druga_id  drugb_id\n",
       "0         0       174\n",
       "1         0       945\n",
       "2         0       295\n",
       "3         0      1305\n",
       "4         0      1257"
      ]
     },
     "execution_count": 90,
     "metadata": {},
     "output_type": "execute_result"
    }
   ],
   "source": [
    "#we want just 2 columns representing 2 nodes\n",
    "known_drugs = known_drugs.drop(columns = ['drug_a', 'drug_b'])\n",
    "known_drugs.head()"
   ]
  },
  {
   "cell_type": "code",
   "execution_count": 91,
   "id": "19de2283-ee0d-402a-8acc-018fb404b857",
   "metadata": {},
   "outputs": [],
   "source": [
    "all_drugs_lookup.to_csv('../data/cleaned data/all_drugs_lookup.csv', index = False)\n",
    "interactions.to_csv('../data/cleaned data/interactions.csv', index = False)\n",
    "known_drugs.to_csv('../data/cleaned data/known_drugs.csv', index = False)\n",
    "chem_sim.to_csv('../data/cleaned data/chem_sim.csv', index = False)"
   ]
  }
 ],
 "metadata": {
  "kernelspec": {
   "display_name": "Python 3 (ipykernel)",
   "language": "python",
   "name": "python3"
  },
  "language_info": {
   "codemirror_mode": {
    "name": "ipython",
    "version": 3
   },
   "file_extension": ".py",
   "mimetype": "text/x-python",
   "name": "python",
   "nbconvert_exporter": "python",
   "pygments_lexer": "ipython3",
   "version": "3.9.12"
  }
 },
 "nbformat": 4,
 "nbformat_minor": 5
}
