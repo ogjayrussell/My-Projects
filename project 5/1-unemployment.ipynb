{
 "cells": [
  {
   "cell_type": "code",
   "execution_count": 5,
   "metadata": {},
   "outputs": [],
   "source": [
    "import pandas as pd"
   ]
  },
  {
   "cell_type": "code",
   "execution_count": 6,
   "metadata": {},
   "outputs": [],
   "source": [
    "df = pd.read_csv('./data/data_raw/unemployment_over_10_years.csv')"
   ]
  },
  {
   "cell_type": "code",
   "execution_count": 7,
   "metadata": {},
   "outputs": [],
   "source": [
    "df = df.T.reset_index()\n",
    "df.columns = df.iloc[0]\n",
    "df = df.drop(axis=0, labels=[0])\n",
    "df.rename(columns={'State' : 'Month'}, inplace=True)\n",
    "df['Month'] = pd.to_datetime(df['Month'])\n",
    "df.columns = df.columns.str.lower()\n",
    "df = df.set_index(df['month']).drop(columns=['month']).sort_index()\n",
    "\n",
    "# Dropping puerto rico because we are unlikely to use it in our analysis and has missing values.\n",
    "df.drop(columns=['puerto rico'], inplace=True)\n",
    "\n",
    "# Converting to percentages\n",
    "for col in df:\n",
    "    df[col] = df[col] / 100\n",
    "    \n",
    "df.to_csv('./data/unemployment_cleaned.csv')"
   ]
  }
 ],
 "metadata": {
  "kernelspec": {
   "display_name": "Python 3 (ipykernel)",
   "language": "python",
   "name": "python3"
  },
  "language_info": {
   "codemirror_mode": {
    "name": "ipython",
    "version": 3
   },
   "file_extension": ".py",
   "mimetype": "text/x-python",
   "name": "python",
   "nbconvert_exporter": "python",
   "pygments_lexer": "ipython3",
   "version": "3.8.8"
  }
 },
 "nbformat": 4,
 "nbformat_minor": 4
}
