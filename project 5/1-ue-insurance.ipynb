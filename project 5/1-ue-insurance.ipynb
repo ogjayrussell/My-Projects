{
 "cells": [
  {
   "cell_type": "code",
   "execution_count": 1,
   "id": "b87f913d-3045-4c52-9180-4954da88a361",
   "metadata": {},
   "outputs": [],
   "source": [
    "import pandas as pd\n",
    "import numpy as np\n",
    "from datetime import datetime\n",
    "import seaborn as sns\n",
    "import matplotlib.pyplot as plt"
   ]
  },
  {
   "cell_type": "code",
   "execution_count": 2,
   "id": "4e74c61c-d269-4b43-96fd-3bd0f1890210",
   "metadata": {},
   "outputs": [],
   "source": [
    "ue_i = pd.read_excel('./data/data_raw/unemployment_insurance.xls')\n",
    "pop = pd.read_csv('./data/pop_df_merged.csv')"
   ]
  },
  {
   "cell_type": "code",
   "execution_count": 3,
   "id": "a06a522f-f121-40e0-af24-bc968be04f4d",
   "metadata": {},
   "outputs": [],
   "source": [
    "ue_i.columns = ue_i.columns = [x.lower().replace(' ', '_') for x in list(ue_i[3:4].values.flatten())]"
   ]
  },
  {
   "cell_type": "code",
   "execution_count": 5,
   "id": "a2ea779c-fe92-4d23-b22c-ed12a97f7c8c",
   "metadata": {},
   "outputs": [],
   "source": [
    "#removing excel formatting issues\n",
    "ue_i = ue_i.drop(labels = list(range(0,4)), axis = 0).reset_index(drop = True)\n",
    "ue_i = ue_i.dropna()"
   ]
  },
  {
   "cell_type": "code",
   "execution_count": 6,
   "id": "50ab02ab-3b9c-4a25-bc3b-4412cc4223e6",
   "metadata": {},
   "outputs": [],
   "source": [
    "def by_state(dataframe):\n",
    "    df_ic = pd.DataFrame()\n",
    "    df_cc = pd.DataFrame()\n",
    "    df_iur = pd.DataFrame()\n",
    "    df_ce = pd.DataFrame()\n",
    "\n",
    "    dfs = [df_ic, df_cc, df_iur, df_ce]\n",
    "\n",
    "    #each state is a new column\n",
    "    for x in dataframe['state'].unique():\n",
    "        df1 = dataframe[dataframe['state'] == x]\n",
    "        df_ic[x] = df1['initial_claims'].reset_index(drop = True)\n",
    "        df_cc[x] = df1['continued_claims'].reset_index(drop = True)\n",
    "        df_iur[x] = df1['insured_unemployment_rate'].reset_index(drop = True)\n",
    "        df_ce[x] = df1['covered_employment'].reset_index(drop = True)\n",
    "\n",
    "    # setting time-series column\\n\",\n",
    "    for df in dfs:\n",
    "        df['reflecting_week_ended'] = dataframe['reflecting_week_ended'][:545].astype('datetime64[ns]')\n",
    "\n",
    "    return df_ic, df_cc, df_ce, df_iur"
   ]
  },
  {
   "cell_type": "code",
   "execution_count": 7,
   "id": "d95c8c67-3339-4cde-aa9e-f01eb626aea5",
   "metadata": {},
   "outputs": [],
   "source": [
    "ic, cc, ce, iur = by_state(ue_i)"
   ]
  },
  {
   "cell_type": "code",
   "execution_count": 9,
   "id": "b22532ac-b0fc-4232-875b-c338f41ddd3b",
   "metadata": {},
   "outputs": [],
   "source": [
    "def index_monthly(df):\n",
    "    df = df.set_index('reflecting_week_ended')\n",
    "    df = df.resample('M').mean().ffill()\n",
    "    df.columns = df.columns.str.lower().str.replace(' ', '_')\n",
    "    mask = (df.index > '2012') & (df.index < '2022')\n",
    "    df = df[mask]\n",
    "    df = df.drop(columns = ['virgin_islands'])\n",
    "    return df"
   ]
  },
  {
   "cell_type": "code",
   "execution_count": 10,
   "id": "49a9d0e7-bf3b-4d30-89fc-a7a2d728cc5d",
   "metadata": {},
   "outputs": [],
   "source": [
    "ic = index_monthly(ic)\n",
    "cc = index_monthly(cc)\n",
    "ce = index_monthly(ce)\n",
    "iur = index_monthly(iur)"
   ]
  },
  {
   "cell_type": "markdown",
   "id": "110171ed-9b8e-4b9c-984b-298adc7b913a",
   "metadata": {},
   "source": [
    "### Aligning pop and ue_i datasets to create per cap unemployment insurance"
   ]
  },
  {
   "cell_type": "code",
   "execution_count": 11,
   "id": "a81fff7d-a435-46b2-b285-dbecdc5a7d4d",
   "metadata": {},
   "outputs": [],
   "source": [
    "# removing ['2010-04-01','2020-04-01']\\n\",\n",
    "pop1 = pop.copy()\n",
    "pop1 = pop1.drop(labels= [0,11], axis = 0)"
   ]
  },
  {
   "cell_type": "code",
   "execution_count": 12,
   "id": "74934ffd-bf5c-4f1a-9e09-4b4de6903203",
   "metadata": {},
   "outputs": [],
   "source": [
    "pop1['Unnamed: 0'] = pop1['Unnamed: 0'].map(lambda x: x.replace('07', '12'))"
   ]
  },
  {
   "cell_type": "code",
   "execution_count": 13,
   "id": "da165dc5-20be-4f37-b31d-ee103c6d4599",
   "metadata": {},
   "outputs": [],
   "source": [
    "def mod_pop(df):\n",
    "    df.columns = df.columns.str.lower().str.replace(' ', '_')\n",
    "    df['unnamed:_0'] = pd.to_datetime(df['unnamed:_0'])\n",
    "    df = df.set_index('unnamed:_0')\n",
    "    df = df.resample('M').ffill()\n",
    "    start = (df.index > '2012')\n",
    "    df = df[start]\n",
    "    return df"
   ]
  },
  {
   "cell_type": "code",
   "execution_count": 14,
   "id": "5869232e-3a7c-489e-a133-36c5c2696cd5",
   "metadata": {},
   "outputs": [],
   "source": [
    "pop1 = mod_pop(pop1)"
   ]
  },
  {
   "cell_type": "code",
   "execution_count": 15,
   "id": "ed91e164-9801-4231-902d-8bc3ed6f6237",
   "metadata": {},
   "outputs": [],
   "source": [
    "def per_cap(df):\n",
    "    df = df.div(pop1)\n",
    "    return df"
   ]
  },
  {
   "cell_type": "code",
   "execution_count": 16,
   "id": "3fbdf128-2611-4b15-a310-1c1d37bdaca0",
   "metadata": {},
   "outputs": [],
   "source": [
    "ic = per_cap(ic)\n",
    "cc = per_cap(cc)\n",
    "ce = per_cap(ce)\n",
    "iur = per_cap(iur)"
   ]
  },
  {
   "cell_type": "code",
   "execution_count": null,
   "id": "a991a392-eb82-4c3d-8426-376e69e200d0",
   "metadata": {},
   "outputs": [],
   "source": [
    "#time series- 'filed_week_ended'\\n\",\n",
    "ic.to_csv('./data/percap_initial_claims.csv')\n",
    "cc.to_csv('./data/percap_continued_claims.csv')\n",
    "ce.to_csv('./data/percap_covered_employment.csv')\n",
    "iur.to_csv('./data/percap_insured_unemployment_rate.csv')"
   ]
  }
 ],
 "metadata": {
  "kernelspec": {
   "display_name": "Python 3 (ipykernel)",
   "language": "python",
   "name": "python3"
  },
  "language_info": {
   "codemirror_mode": {
    "name": "ipython",
    "version": 3
   },
   "file_extension": ".py",
   "mimetype": "text/x-python",
   "name": "python",
   "nbconvert_exporter": "python",
   "pygments_lexer": "ipython3",
   "version": "3.8.8"
  }
 },
 "nbformat": 4,
 "nbformat_minor": 5
}
