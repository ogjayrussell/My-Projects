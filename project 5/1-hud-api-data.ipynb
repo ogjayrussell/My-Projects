{
 "cells": [
  {
   "cell_type": "markdown",
   "id": "a2afd37c-1cb7-4d3d-985e-293cba4574ad",
   "metadata": {},
   "source": [
    "# IMPORTS"
   ]
  },
  {
   "cell_type": "code",
   "execution_count": 67,
   "id": "3814cec2-731f-45b9-b996-659607917606",
   "metadata": {},
   "outputs": [],
   "source": [
    "import requests\n",
    "import pandas as pd\n",
    "import numpy as np"
   ]
  },
  {
   "cell_type": "code",
   "execution_count": 68,
   "id": "269f0c31-059c-420d-ad36-990bb0a36e41",
   "metadata": {},
   "outputs": [],
   "source": [
    "# citation: https://www.geeksforgeeks.org/using-apply-in-pandas-lambda-functions-with-multiple-if-statements/\n",
    "def hud_email_condition_func(x):\n",
    "    if pd.isnull(x):\n",
    "        return np.NaN\n",
    "    elif str(x)[::-1][3] != '.':\n",
    "        return np.NaN\n",
    "    else:\n",
    "        return x"
   ]
  },
  {
   "cell_type": "markdown",
   "id": "c6db88fd-db28-406a-b1a3-da535bdbd0b3",
   "metadata": {},
   "source": [
    "# GET HUD DATA"
   ]
  },
  {
   "cell_type": "code",
   "execution_count": 69,
   "id": "81ca900a-fcf5-4d24-8bd1-c8e39c1d10a9",
   "metadata": {},
   "outputs": [],
   "source": [
    "#sample_url = 'http://data.hud.gov/Housing_Counselor/search?AgencyName=&City=&State='"
   ]
  },
  {
   "cell_type": "code",
   "execution_count": 70,
   "id": "11c30976-cc4f-4f56-a89e-9e5f03aaee37",
   "metadata": {},
   "outputs": [],
   "source": [
    "url = f'http://data.hud.gov/Housing_Counselor/search?AgencyName=&City=&State='"
   ]
  },
  {
   "cell_type": "code",
   "execution_count": 71,
   "id": "d351f756-d18c-4f92-87d8-307b93f560a2",
   "metadata": {},
   "outputs": [
    {
     "data": {
      "text/plain": [
       "'http://data.hud.gov/Housing_Counselor/search?AgencyName=&City=&State='"
      ]
     },
     "execution_count": 71,
     "metadata": {},
     "output_type": "execute_result"
    }
   ],
   "source": [
    "url"
   ]
  },
  {
   "cell_type": "code",
   "execution_count": 72,
   "id": "8381404e-38bb-4006-a6b6-367eecabc475",
   "metadata": {},
   "outputs": [
    {
     "data": {
      "text/plain": [
       "200"
      ]
     },
     "execution_count": 72,
     "metadata": {},
     "output_type": "execute_result"
    }
   ],
   "source": [
    "requests.get(url=url).status_code"
   ]
  },
  {
   "cell_type": "code",
   "execution_count": 73,
   "id": "c0e29bf8-d947-4577-95b7-fa31aac66c64",
   "metadata": {},
   "outputs": [
    {
     "data": {
      "text/plain": [
       "{'Date': 'Tue, 12 Jul 2022 07:40:36 GMT', 'Server': 'Apache', 'Strict-Transport-Security': 'max-age=63072000; includeSubDomains; preload', 'X-Frame-Options': 'DENY', 'X-Content-Type-Options': 'nosniff', 'X-ORACLE-DMS-ECID': '70e35437-0e8f-4457-90c6-cf8aa0fc673d-00146214', 'X-ORACLE-DMS-RID': '0', 'Keep-Alive': 'timeout=5, max=100', 'Connection': 'Keep-Alive', 'Transfer-Encoding': 'chunked', 'Content-Type': 'application/json; charset=iso-8859-1'}"
      ]
     },
     "execution_count": 73,
     "metadata": {},
     "output_type": "execute_result"
    }
   ],
   "source": [
    "requests.get(url=url).headers"
   ]
  },
  {
   "cell_type": "code",
   "execution_count": 74,
   "id": "b770368f-30fb-41ca-9950-1c6d1b48d883",
   "metadata": {},
   "outputs": [],
   "source": [
    "res = requests.get(url=url)\n",
    "res_json = res.json()"
   ]
  },
  {
   "cell_type": "code",
   "execution_count": 75,
   "id": "25f1e485-c48b-47d2-8d48-431059262162",
   "metadata": {},
   "outputs": [],
   "source": [
    "df = pd.DataFrame(res_json)"
   ]
  },
  {
   "cell_type": "code",
   "execution_count": 76,
   "id": "d193b504-394e-44d4-a753-ef0dcafb5666",
   "metadata": {},
   "outputs": [
    {
     "data": {
      "text/plain": [
       "['services',\n",
       " 'languages',\n",
       " 'agcid',\n",
       " 'adr1',\n",
       " 'adr2',\n",
       " 'city',\n",
       " 'email',\n",
       " 'fax',\n",
       " 'nme',\n",
       " 'phone1',\n",
       " 'statecd',\n",
       " 'weburl',\n",
       " 'zipcd',\n",
       " 'agc_ADDR_LATITUDE',\n",
       " 'agc_ADDR_LONGITUDE',\n",
       " 'parentid',\n",
       " 'county_NME',\n",
       " 'phone2',\n",
       " 'mailingadr1',\n",
       " 'mailingadr2',\n",
       " 'mailingcity',\n",
       " 'mailingzipcd',\n",
       " 'mailingstatecd',\n",
       " 'state_NME',\n",
       " 'state_FIPS_CODE',\n",
       " 'faithbased',\n",
       " 'colonias_IND',\n",
       " 'migrantwkrs_IND',\n",
       " 'agc_STATUS',\n",
       " 'agc_SRC_CD',\n",
       " 'counslg_METHOD']"
      ]
     },
     "execution_count": 76,
     "metadata": {},
     "output_type": "execute_result"
    }
   ],
   "source": [
    "list(df.columns)"
   ]
  },
  {
   "cell_type": "code",
   "execution_count": 77,
   "id": "c5f40326-e699-43e0-aa0f-f9a9a1a7ff7f",
   "metadata": {},
   "outputs": [
    {
     "data": {
      "text/plain": [
       "(1511, 31)"
      ]
     },
     "execution_count": 77,
     "metadata": {},
     "output_type": "execute_result"
    }
   ],
   "source": [
    "df.shape"
   ]
  },
  {
   "cell_type": "code",
   "execution_count": 78,
   "id": "cb939e63-ad2d-4703-81c3-2ea48784b917",
   "metadata": {},
   "outputs": [],
   "source": [
    "keep_features = ['services',\n",
    "                 'agcid',\n",
    "                 'adr1',\n",
    "                 'adr2',\n",
    "                 'city',\n",
    "                 'email',\n",
    "                 'fax',\n",
    "                 'nme',\n",
    "                 'phone1',\n",
    "                 'statecd',\n",
    "                 'weburl',\n",
    "                 'zipcd',\n",
    "                 'agc_ADDR_LATITUDE',\n",
    "                 'agc_ADDR_LONGITUDE',\n",
    "                 'languages',\n",
    "                 'faithbased',\n",
    "                 'counslg_METHOD']"
   ]
  },
  {
   "cell_type": "code",
   "execution_count": 79,
   "id": "95b78399-bf25-4235-b4a1-f450b6ca9511",
   "metadata": {},
   "outputs": [],
   "source": [
    "df = df[keep_features]"
   ]
  },
  {
   "cell_type": "code",
   "execution_count": 80,
   "id": "86964a28-f464-475f-ba31-ebade6cdee87",
   "metadata": {},
   "outputs": [
    {
     "name": "stdout",
     "output_type": "stream",
     "text": [
      "Feature              NaNs\n",
      "services             21\n",
      "agcid                0\n",
      "adr1                 0\n",
      "adr2                 988\n",
      "city                 0\n",
      "email                21\n",
      "fax                  565\n",
      "nme                  0\n",
      "phone1               1\n",
      "statecd              0\n",
      "weburl               13\n",
      "zipcd                0\n",
      "agc_ADDR_LATITUDE    40\n",
      "agc_ADDR_LONGITUDE   40\n",
      "languages            0\n",
      "faithbased           0\n",
      "counslg_METHOD       92\n"
     ]
    }
   ],
   "source": [
    "print(f\"{'Feature':<20} NaNs\")\n",
    "for f in df.columns:\n",
    "    print(f\"{f:<20} {df[f].str.strip().isnull().sum()}\")"
   ]
  },
  {
   "cell_type": "code",
   "execution_count": 81,
   "id": "00722deb-be58-488d-9f55-4481021eb4c5",
   "metadata": {},
   "outputs": [],
   "source": [
    "df['adr2'] = df['adr2'].replace('N/A', np.NaN)\n",
    "df['adr2'] = df['adr2'].apply(lambda x: np.NaN if str(x).isspace() else x)"
   ]
  },
  {
   "cell_type": "code",
   "execution_count": 82,
   "id": "feb7665a-a6c8-4762-9c01-62bd85185e23",
   "metadata": {},
   "outputs": [],
   "source": [
    "df['email'] = df['email'].apply(lambda x: np.NaN if '@' not in str(x) else x)\n",
    "df['email'] = df['email'].apply(lambda x: np.NaN if str(x).isspace() else x)\n",
    "df['email'] = df['email'].apply(lambda x: np.NaN if pd.isnull(x) else ''.join(str(x).split()))\n",
    "df['email'] = df['email'].apply(lambda x: hud_email_condition_func(x))"
   ]
  },
  {
   "cell_type": "code",
   "execution_count": 83,
   "id": "e3444a91-548f-47ac-88a7-bf3af15af3e2",
   "metadata": {},
   "outputs": [],
   "source": [
    "df['fax'] = df['fax'].replace('000-000-0000', np.NaN)\n",
    "df['fax'] = df['fax'].replace('111-111-1111', np.NaN)\n",
    "df['fax'] = df['fax'].replace('111-222-3333', np.NaN)\n",
    "df['fax'] = df['fax'].apply(lambda x: np.NaN if str(x).isspace() else x)"
   ]
  },
  {
   "cell_type": "code",
   "execution_count": 84,
   "id": "18510952-930f-49d3-801f-8fffa150b428",
   "metadata": {},
   "outputs": [],
   "source": [
    "df['phone1'] = df['phone1'].replace('000-000-0000', np.NaN)\n",
    "df['phone1'] = df['phone1'].apply(lambda x: np.NaN if str(x).isspace() else x)"
   ]
  },
  {
   "cell_type": "code",
   "execution_count": 85,
   "id": "299d6cd7-0ec0-4633-ac47-34b0fadae13d",
   "metadata": {},
   "outputs": [],
   "source": [
    "df['weburl'] = df['weburl'].replace('N/A', np.NaN)\n",
    "df['weburl'] = df['weburl'].apply(lambda x: np.NaN if '@' in str(x) else x)\n",
    "df['weburl'] = df['weburl'].apply(lambda x: np.NaN if str(x).isspace() else x)\n",
    "df['weburl'] = df['weburl'].apply(lambda x: np.NaN if 'n/a' in str(x) else x)\n",
    "df['weburl'] = df['weburl'].apply(lambda x: x if ''.join(str(x).split()) == str(x) else np.NaN)\n",
    "df['weburl'] = df['weburl'].apply(lambda x: np.NaN if '.www' in str(x) else x)\n",
    "df['weburl'] = df['weburl'].apply(lambda x: str(x).replace(',','.'))"
   ]
  },
  {
   "cell_type": "code",
   "execution_count": 86,
   "id": "ab6d1841-7e4a-4730-9715-55920ddccdea",
   "metadata": {},
   "outputs": [],
   "source": [
    "df['zipcd'] = df['zipcd'].apply(lambda x: x.split('-')[0])"
   ]
  },
  {
   "cell_type": "code",
   "execution_count": 87,
   "id": "e4a275e0-e84d-4359-b1fd-ca14e112e501",
   "metadata": {},
   "outputs": [],
   "source": [
    "df['agc_ADDR_LATITUDE'] = df['agc_ADDR_LATITUDE'].replace('0', np.NaN)"
   ]
  },
  {
   "cell_type": "code",
   "execution_count": 88,
   "id": "fb8dbfe1-26f2-4163-a4e0-5f17af441849",
   "metadata": {},
   "outputs": [],
   "source": [
    "df['agc_ADDR_LONGITUDE'] = df['agc_ADDR_LONGITUDE'].replace('0', np.NaN)\n",
    "df['agc_ADDR_LONGITUDE'] = df['agc_ADDR_LONGITUDE'].apply(lambda x: x if '-' in str(x) or pd.isnull(x) else '-' + x)"
   ]
  },
  {
   "cell_type": "code",
   "execution_count": 89,
   "id": "83108d49-0d54-4d5b-b187-c36ae7c88643",
   "metadata": {},
   "outputs": [],
   "source": [
    "df['faithbased'] = df['faithbased'].map({'N':'No',\n",
    "                      'Y':'Yes'})"
   ]
  },
  {
   "cell_type": "code",
   "execution_count": 90,
   "id": "46474b9b-cfde-4fd7-9c87-6aee9a2cb3d0",
   "metadata": {},
   "outputs": [
    {
     "name": "stdout",
     "output_type": "stream",
     "text": [
      "Feature              NaNs\n",
      "services             21\n",
      "agcid                0\n",
      "adr1                 0\n",
      "adr2                 1287\n",
      "city                 0\n",
      "email                433\n",
      "fax                  682\n",
      "nme                  0\n",
      "phone1               17\n",
      "statecd              0\n",
      "weburl               0\n",
      "zipcd                0\n",
      "agc_ADDR_LATITUDE    43\n",
      "agc_ADDR_LONGITUDE   43\n",
      "languages            0\n",
      "faithbased           0\n",
      "counslg_METHOD       92\n"
     ]
    }
   ],
   "source": [
    "print(f\"{'Feature':<20} NaNs\")\n",
    "for f in df.columns:\n",
    "    print(f\"{f:<20} {df[f].str.strip().isnull().sum()}\")"
   ]
  },
  {
   "cell_type": "code",
   "execution_count": 91,
   "id": "8afcbea3-b99e-4192-a1fa-9fa40c6a3057",
   "metadata": {},
   "outputs": [],
   "source": [
    "# lang_dict = dict()\n",
    "\n",
    "# lang_dict = {'ARA':'Arabic',\n",
    "#              'ASL':'American Sign Language',\n",
    "#              'CAM':'Cambodian',\n",
    "#              'CAN':'Cantonese',\n",
    "#              'CHI':'Chinese Mandarin',\n",
    "#              'CRE':'Creole',\n",
    "#              'CZE':'Czech',\n",
    "#              'ENG':'English',\n",
    "#              'FAR':'Farsi',\n",
    "#              'FRE':'French',\n",
    "#              'GER':'German',\n",
    "#              'HIN':'Hindi',\n",
    "#              'HMO':'Hmong',\n",
    "#              'IND':'Indonesian',\n",
    "#              'ITA':'Italian',\n",
    "#              'KOR':'Korean',\n",
    "#              'OTH':'Other',\n",
    "#              'POL':'Polish',\n",
    "#              'POR':'Portuguese',\n",
    "#              'RUS':'Russian',\n",
    "#              'SPA':'Spanish',\n",
    "#              'SWA':'Swahili',\n",
    "#              'TUR':'Turkish',\n",
    "#              'UKR':'Ukranian',\n",
    "#              'VIE':'Vietnamese'}\n",
    "\n",
    "s = df['languages'].apply(lambda x: np.NaN if pd.isnull(x)\n",
    "                               else ['language_' + m for m in x.split(',')]).explode()\n",
    "\n",
    "df = df.join(pd.crosstab(s.index, s))"
   ]
  },
  {
   "cell_type": "code",
   "execution_count": 92,
   "id": "e02b0924-9f74-4c67-8d72-ddf606cb1df6",
   "metadata": {},
   "outputs": [],
   "source": [
    "# srvc_dict = dict()\n",
    "\n",
    "# srvc_dict = {'DFC':'Mortgage Delinquency and Default Resolution Counseling',\n",
    "#              'DFW':'Resolving Preventing Mortgage Delinquency Workshops',\n",
    "#              'FBC':'Financial Management Budget Counseling',\n",
    "#              'FBW':'Financial, Budgeting, and Credit Workshops',\n",
    "#              'FHW':'Fair Housing PrePurchase Education Workshops',\n",
    "#              'HIC':'Home Improvement and Rehabilitation Counseling',\n",
    "#              'HMC':'Services for Homeless Counseling',\n",
    "#              'NDW':'Non-Delinquency Post Purchase Workshops',\n",
    "#              'PLW':'Predatory Lending Education Workshops',\n",
    "#              'PPC':'PrePurchase Counseling',\n",
    "#              'PPW':'PrePurchase Homebuyer Education Workshops',\n",
    "#              'RHC':'Rental Housing Counseling',\n",
    "#              'RHW':'Rental Housing Workshops',\n",
    "#              'RMC':'Reverse Mortgage Counseling'}\n",
    "\n",
    "s = df['services'].apply(lambda x: np.NaN if pd.isnull(x)\n",
    "                               else ['service_' + m for m in x.split(',')]).explode()\n",
    "\n",
    "df = df.join(pd.crosstab(s.index, s))"
   ]
  },
  {
   "cell_type": "code",
   "execution_count": 93,
   "id": "7f8e490e-9d47-4403-85fe-44806a5fe871",
   "metadata": {},
   "outputs": [],
   "source": [
    "# citation: https://stackoverflow.com/questions/45312377/how-to-one-hot-encode-from-a-pandas-column-containing-a-list\n",
    "cons_dict = dict()\n",
    "\n",
    "cons_dict = {'Face to Face Counseling':'FTF',\n",
    "             'Group Counseling':'GRP',\n",
    "             'Internet Counseling':'WEB',\n",
    "             'Other Counseling':'OTH',\n",
    "             'Phone Counseling':'TEL',\n",
    "             'Phone Counseling Only':'TEL',\n",
    "             'Video Conference':'VID'}\n",
    "\n",
    "s = df['counslg_METHOD'].apply(lambda x: np.NaN if pd.isnull(x)\n",
    "                               else ['counseling_' + cons_dict[m] for m in x.split(',')]).explode()\n",
    "\n",
    "df = df.join(pd.crosstab(s.index, s))"
   ]
  },
  {
   "cell_type": "code",
   "execution_count": 94,
   "id": "17ffb777-5b2b-421e-b3ab-b75085b5b8e5",
   "metadata": {},
   "outputs": [],
   "source": [
    "df['counslg_METHOD'] = df['counslg_METHOD'].apply(lambda x: np.NaN if pd.isnull(x) else ','.join([cons_dict[s] for s in set(x.split(','))]))"
   ]
  },
  {
   "cell_type": "code",
   "execution_count": 95,
   "id": "a29d2e7b-1183-4401-bf01-af2d963ade96",
   "metadata": {},
   "outputs": [],
   "source": [
    "df.to_csv('./data/hud_data.csv', index=False)"
   ]
  },
  {
   "cell_type": "code",
   "execution_count": null,
   "id": "e7471829-4011-4dc8-a554-c082cb5f6f3e",
   "metadata": {},
   "outputs": [],
   "source": []
  },
  {
   "cell_type": "markdown",
   "id": "356f2056-aabe-4799-999d-7c1c33d4a45d",
   "metadata": {},
   "source": [
    "# ADD TO HUD DATA AFTER MODELING"
   ]
  },
  {
   "cell_type": "code",
   "execution_count": 96,
   "id": "b3ed76c5-e457-4266-80ce-8c0c816e5adf",
   "metadata": {},
   "outputs": [],
   "source": [
    "hud_df = pd.read_csv('./data/hud_data.csv')\n",
    "state_df = pd.read_csv('./data/data_raw/state_codes.csv')\n",
    "dqf_df = pd.read_csv('./data/delinquency_join_to_hud_data.csv')\n",
    "pp_df = pd.read_csv('./data/prepurchase_join_to_hud_data.csv')"
   ]
  },
  {
   "cell_type": "code",
   "execution_count": 97,
   "id": "2dfd1530-2974-43d6-9811-89854519dd96",
   "metadata": {},
   "outputs": [],
   "source": [
    "dqf_df = dqf_df.drop(columns=['Unnamed: 0','rmse_baseline','mae_baseline','mape_baseline'])\n",
    "pp_df = pp_df.drop(columns=['Unnamed: 0','rmse_baseline','mae_baseline','mape_baseline'])"
   ]
  },
  {
   "cell_type": "code",
   "execution_count": 98,
   "id": "1b8c37a4-8b51-4252-8a47-2bdfb10808f3",
   "metadata": {},
   "outputs": [],
   "source": [
    "pp_df['state'] = pp_df['state'].apply(lambda x: x.replace('_',' ').title())\n",
    "dqf_df['state'] = dqf_df['state'].apply(lambda x: x.replace('_',' ').title())"
   ]
  },
  {
   "cell_type": "code",
   "execution_count": 99,
   "id": "3be953e0-ef41-400a-a99e-3c5458c0450f",
   "metadata": {},
   "outputs": [],
   "source": [
    "state_name_dict = dict()\n",
    "\n",
    "for c in state_df['name']:\n",
    "\n",
    "    state_name_dict[c] = state_df[state_df['name'] == c]['postal_code'].values[0]\n",
    "\n",
    "state_name_dict['District Of Columbia'] = 'DC'"
   ]
  },
  {
   "cell_type": "code",
   "execution_count": 100,
   "id": "fdc5ac7d-62da-4fe2-907f-c7df5a25fb99",
   "metadata": {},
   "outputs": [],
   "source": [
    "pp_df['state'] = pp_df['state'].map(state_name_dict)\n",
    "dqf_df['state'] = dqf_df['state'].map(state_name_dict)"
   ]
  },
  {
   "cell_type": "code",
   "execution_count": 101,
   "id": "f5e8fd9c-f897-4d76-967a-b43779b80f69",
   "metadata": {},
   "outputs": [],
   "source": [
    "dqf_names_dict = dict()\n",
    "\n",
    "for k, v in zip(dqf_df.columns, ['dqf_' + c  if c != 'state' else c for c in dqf_df.columns]):\n",
    "    \n",
    "    dqf_names_dict[k] = v"
   ]
  },
  {
   "cell_type": "code",
   "execution_count": 102,
   "id": "1843790b-9ec6-454b-b8db-75e7ca534d4d",
   "metadata": {},
   "outputs": [],
   "source": [
    "pp_names_dict = dict()\n",
    "\n",
    "for k, v in zip(pp_df.columns, ['pp_' + c  if c != 'state' else c for c in pp_df.columns]):\n",
    "    \n",
    "    pp_names_dict[k] = v"
   ]
  },
  {
   "cell_type": "code",
   "execution_count": 103,
   "id": "d5f379af-b5ab-4529-9bfe-81ed6be1f110",
   "metadata": {},
   "outputs": [],
   "source": [
    "hud_df = pd.merge(hud_df, dqf_df.rename(columns=dqf_names_dict), how='left', left_on='statecd', right_on='state').drop(columns=['state'])"
   ]
  },
  {
   "cell_type": "code",
   "execution_count": 104,
   "id": "4e1e0b87-347e-4cb7-98c8-3dd8f7f8a3ea",
   "metadata": {},
   "outputs": [],
   "source": [
    "hud_df = pd.merge(hud_df, pp_df.rename(columns=pp_names_dict), how='left', left_on='statecd', right_on='state').drop(columns=['state'])"
   ]
  },
  {
   "cell_type": "code",
   "execution_count": 105,
   "id": "dedd4950-c7d1-4fd6-a709-82eea970b5b9",
   "metadata": {},
   "outputs": [],
   "source": [
    "hud_df.to_csv('./data/hud_data.csv', index=False)"
   ]
  },
  {
   "cell_type": "code",
   "execution_count": null,
   "id": "e5d74cba-6c53-415e-9eb7-91c1aa21ee04",
   "metadata": {},
   "outputs": [],
   "source": []
  },
  {
   "cell_type": "code",
   "execution_count": null,
   "id": "eccad3f6-bbce-4e60-9c70-837a250ff4bf",
   "metadata": {},
   "outputs": [],
   "source": []
  }
 ],
 "metadata": {
  "kernelspec": {
   "display_name": "Python 3 (ipykernel)",
   "language": "python",
   "name": "python3"
  },
  "language_info": {
   "codemirror_mode": {
    "name": "ipython",
    "version": 3
   },
   "file_extension": ".py",
   "mimetype": "text/x-python",
   "name": "python",
   "nbconvert_exporter": "python",
   "pygments_lexer": "ipython3",
   "version": "3.8.8"
  }
 },
 "nbformat": 4,
 "nbformat_minor": 5
}
